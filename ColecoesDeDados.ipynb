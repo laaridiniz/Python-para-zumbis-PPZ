{
  "nbformat": 4,
  "nbformat_minor": 0,
  "metadata": {
    "colab": {
      "provenance": [],
      "include_colab_link": true
    },
    "kernelspec": {
      "name": "python3",
      "display_name": "Python 3"
    }
  },
  "cells": [
    {
      "cell_type": "markdown",
      "metadata": {
        "id": "view-in-github",
        "colab_type": "text"
      },
      "source": [
        "<a href=\"https://colab.research.google.com/github/laaridiniz/Python-para-zumbis-PPZ/blob/main/ColecoesDeDados.ipynb\" target=\"_parent\"><img src=\"https://colab.research.google.com/assets/colab-badge.svg\" alt=\"Open In Colab\"/></a>"
      ]
    },
    {
      "cell_type": "markdown",
      "metadata": {
        "id": "GtQ10GE9DxZI",
        "colab_type": "toc"
      },
      "source": [
        ">[Verificando seu conhecimento](#scrollTo=aILM-wQnD9j0)\n",
        "\n",
        ">[Coleções de dados](#scrollTo=c9OJgaeTzOGs)\n",
        "\n",
        ">[Listas: criação e acesso aos elementos](#scrollTo=GIRoHC6SGEVp)\n",
        "\n",
        ">[Listas: acesso, manipulação e alteração](#scrollTo=K7IPD1uHJJMO)\n",
        "\n",
        ">[Listas: acesso à múltiplos valores](#scrollTo=6KmSBLkWoHzc)\n",
        "\n",
        ">[Listas: comandos úteis](#scrollTo=d7cUOakV4Wjy)\n",
        "\n",
        ">[Listas Modificando, Adicionando e Removendo valores](#scrollTo=8feeWMaXxEv6)\n",
        "\n",
        ">[Listas: Criando cópias](#scrollTo=WQN30XFlynse)\n",
        "\n",
        ">[Fusão de listas](#scrollTo=dFQ3pzAx0v83)\n",
        "\n",
        ">[Tuplas](#scrollTo=rQKNi3IBGZDn)\n",
        "\n",
        ">[Conjuntos](#scrollTo=Wdux7eQsIcRs)\n",
        "\n",
        ">[Dicionários](#scrollTo=5LrqrxxoSJ9x)\n",
        "\n",
        ">[Sumário dos tipos básicos e coleções](#scrollTo=mESpDZGhSkag)\n",
        "\n",
        ">>[Tipos básicos](#scrollTo=mESpDZGhSkag)\n",
        "\n",
        ">>>[Tipos int: valores inteiros](#scrollTo=mESpDZGhSkag)\n",
        "\n",
        ">>>[Tipo float: valores reais](#scrollTo=mESpDZGhSkag)\n",
        "\n",
        ">>>[Tipo str: palavras e letras](#scrollTo=mESpDZGhSkag)\n",
        "\n",
        ">>[Coleções](#scrollTo=mESpDZGhSkag)\n",
        "\n",
        ">>>[Listas: conjunto de valores mutáveis e ordenados de tipos básicos ou coleções](#scrollTo=mESpDZGhSkag)\n",
        "\n",
        ">>>[Tuplas: lista de valores imutáveis](#scrollTo=mESpDZGhSkag)\n",
        "\n",
        ">>>[Conjuntos: lista de valores mutáveis, porém sem ordenação](#scrollTo=mESpDZGhSkag)\n",
        "\n",
        ">>>[Dicionários: valores mutáveis organizados em pares - chaves e valores](#scrollTo=mESpDZGhSkag)\n",
        "\n"
      ]
    },
    {
      "cell_type": "markdown",
      "metadata": {
        "id": "aILM-wQnD9j0"
      },
      "source": [
        "# 0. Verificando seu conhecimento\n",
        "\n",
        "Se você consegue entender todos os comandos que estão na célula abaixo, então, você pular essa seção."
      ]
    },
    {
      "cell_type": "code",
      "metadata": {
        "id": "Nya5F2FpEJqr",
        "colab": {
          "base_uri": "https://localhost:8080/",
          "height": 272
        },
        "outputId": "ed50f025-1ef3-4700-bb3f-8eaa60329d59"
      },
      "source": [
        "# Comandos sobre listas\n",
        "l1 = list(range(1,10,2))\n",
        "print(l1[-4:])\n",
        "l1.append(2)\n",
        "l2 = ['a', l1.copy()]\n",
        "print(l2)\n",
        "l3 = ['b','c'] + l1\n",
        "print(l3)\n",
        "l4 = ['d']\n",
        "l4.append(l1)\n",
        "print(l4)\n",
        "# Comandos sobre tuplas\n",
        "tup = (3, 2, 5, 1)\n",
        "print(tup[1:2])\n",
        "# Comandos sobre conjuntos\n",
        "set1 = {\"banana\",\"maçã\"}\n",
        "set2 = {\"green\", \"blue\"}\n",
        "print(\"banana\" in set1)\n",
        "set1.add(\"mamão\")\n",
        "print(set1)\n",
        "set2.update([\"orange\"])\n",
        "print(set2)\n",
        "set3 = set1.union(set2)\n",
        "print(set3)\n",
        "# Comandos sobre dicionários\n",
        "cores = {1: 'blue', 2: 'red', 3: 'yellow', 4: 'green'}\n",
        "dados = {'x': [1, 2, 3, 4, 5], 'y': [1, 4, 9, 16, 25]}\n",
        "print(cores[1])\n",
        "print(dados['x'])\n",
        "print(dados['x'][1])\n",
        "print(cores.keys())\n",
        "print(dados.values())\n",
        "print(cores.items())\n",
        "\n",
        "\n",
        "\n"
      ],
      "execution_count": null,
      "outputs": [
        {
          "output_type": "stream",
          "text": [
            "[3, 5, 7, 9]\n",
            "['a', [1, 3, 5, 7, 9, 2]]\n",
            "['b', 'c', 1, 3, 5, 7, 9, 2]\n",
            "['d', [1, 3, 5, 7, 9, 2]]\n",
            "(2,)\n",
            "True\n",
            "{'mamão', 'maçã', 'banana'}\n",
            "{'blue', 'orange', 'green'}\n",
            "{'mamão', 'blue', 'maçã', 'banana', 'green', 'orange'}\n",
            "blue\n",
            "[1, 2, 3, 4, 5]\n",
            "2\n",
            "dict_keys([1, 2, 3, 4])\n",
            "dict_values([[1, 2, 3, 4, 5], [1, 4, 9, 16, 25]])\n",
            "dict_items([(1, 'blue'), (2, 'red'), (3, 'yellow'), (4, 'green')])\n"
          ],
          "name": "stdout"
        }
      ]
    },
    {
      "cell_type": "markdown",
      "metadata": {
        "id": "c9OJgaeTzOGs"
      },
      "source": [
        "# 1. Coleções de dados\n",
        "\n",
        "Existem quatro tipos de coleções de dados que podem ser criados a partir dos tipos básicos (**int**, **float**, **string**):\n",
        "\n",
        "1. **Lista (list)**: é uma coleção ordenada e mutável de valores que permite valores duplicados;\n",
        "\n",
        "2. **Tupla (tuple)**: é uma coleção ordenada e imutável de valores que permite valores duplicados;\n",
        "\n",
        "3. **Conjunto (set)**: é uma coleção sem ordenação e sem indexação que não pode ter valores duplicados;\n",
        "\n",
        "4. **Dicionário (dictionary)**: é uma coleção sem ordenação, mutável e indexada.\n",
        "\n",
        "A escolha adequada de uma coleção de dados depende de se conhecer as propriedades de cada uma. O resultado será um aumento de eficiência e segurança na manipulação dos dados."
      ]
    },
    {
      "cell_type": "markdown",
      "metadata": {
        "id": "GIRoHC6SGEVp"
      },
      "source": [
        "# 2. Listas: criação e acesso aos elementos\n",
        "\n",
        "Listas são coleções de dados que podem ser de tipos básicos (**float**, **int**, e **str** ) iguais ou diferentes ou mesmo do tipos lista. Se você não sabe o que são tipos básicos, então, acesse o seguinte notebook:\n",
        "\n",
        "https://colab.research.google.com/drive/1-mw5OI7-gf18P_OsMbKwMNrbDXx2gqgQ?usp=sharing\n",
        "\n",
        "A partir de um único nome (o nome da lista) é possível reunir e referenciar os dados. Cada elemento da lista é separado por vírgulas (',') e pode ser referenciado com o uso do operador []. Um exemplo é obtenção do primeiro elemento da lista de nome x com x[0]."
      ]
    },
    {
      "cell_type": "code",
      "metadata": {
        "id": "aozbtscJzK_r",
        "outputId": "c04cad94-db2c-4be7-e698-3d8ef80d7664",
        "colab": {
          "base_uri": "https://localhost:8080/",
          "height": 119
        }
      },
      "source": [
        "x = [-10, 5, 7, 9]       # Lista de valores tipo int.\n",
        "y = ['ab','b','c','da']  # Lista de valores tipo str\n",
        "z = [x, -10, 'ba', y]    # Lista de valores tipo lista, int, str e lista.\n",
        "print(x)\n",
        "print(x[0])\n",
        "print(y)\n",
        "print(y[0])\n",
        "print(z)\n",
        "print(z[0])"
      ],
      "execution_count": null,
      "outputs": [
        {
          "output_type": "stream",
          "text": [
            "[-10, 5, 7, 9]\n",
            "-10\n",
            "['ab', 'b', 'c', 'da']\n",
            "ab\n",
            "[[-10, 5, 7, 9], -10, 'ba', ['ab', 'b', 'c', 'da']]\n",
            "[-10, 5, 7, 9]\n"
          ],
          "name": "stdout"
        }
      ]
    },
    {
      "cell_type": "markdown",
      "metadata": {
        "id": "K7IPD1uHJJMO"
      },
      "source": [
        "# 3. Listas: acesso, manipulação e alteração\n",
        "\n",
        "Os elementos das listas podem ser não só acessados, mas também alterados a\n",
        "partir do operador []. É importante ressaltar que o comando **len** fornece\n",
        "o número de elementos da lista. \n",
        "\n",
        "Como o primeiro elemento de uma lista possui \n",
        "indexação zero (isto é, pode ser acessado com o uso do operador [0]), então,\n",
        "o último elemento pode ser acessado com o operador [len(nome_lista)-1]. \n",
        "\n",
        "Outra possibilidade é acessar o último elemento com o uso do índice [-1], pois \n",
        "a indexação é feita de forma circular. O esquema abaixo ilustra essas questões \n",
        "de indexação para uma lista de nome x:\n",
        "\n",
        "x = [-20, -10, 40, 30]\n",
        "   \n",
        "    x[ 0] x[ 1] x[ 2] x[ 3]\n",
        "    x[-4] x[-3] x[-2] x[-1]\n",
        "\n",
        "len(x) = 4 \n",
        "\n"
      ]
    },
    {
      "cell_type": "code",
      "metadata": {
        "id": "dOOj9WbhHHty",
        "outputId": "2f229ba7-2c94-4d0e-f4fe-3ecd7884d178",
        "colab": {
          "base_uri": "https://localhost:8080/",
          "height": 119
        }
      },
      "source": [
        "x = [-20, -10, 40, 30]\n",
        "print(\"x[ 0]  = \" + str(x[0]))\n",
        "print(\"x[ 3]  = \" + str(x[3]))\n",
        "print(\"x[-1]  = \" + str(x[-1]))\n",
        "print(\"x[-4]  = \" + str(x[-4]))\n",
        "print(\"len(x) = \" + str(len(x)))\n",
        "print(\"x[len(x)-1] = \" + str(x[len(x)-1]))"
      ],
      "execution_count": null,
      "outputs": [
        {
          "output_type": "stream",
          "text": [
            "x[ 0]  = -20\n",
            "x[ 3]  = 30\n",
            "x[-1]  = 30\n",
            "x[-4]  = -20\n",
            "len(x) = 4\n",
            "x[len(x)-1] = 30\n"
          ],
          "name": "stdout"
        }
      ]
    },
    {
      "cell_type": "markdown",
      "metadata": {
        "id": "6KmSBLkWoHzc"
      },
      "source": [
        "# 4. Listas: acesso à múltiplos valores\n",
        "\n",
        "É possível acessar simultaneamente vários valores de uma lista. Para tanto, os seguintes operadores podem ser utilizados:\n",
        "\n",
        "1. A partir do índice a até o índice len()-1: [a:]\n",
        "\n",
        "2. A partir do índice 0 até um índice b-1: [:b]\n",
        "\n",
        "3. A partir do índice a até um índice b-1: [a:b]\n",
        "\n",
        "4. A partir do índice negativo -b até o índice -a: [-b:-a]\n",
        "\n",
        "5. A partir de uma lista de índices: [[-1 -2 -3 -4]]"
      ]
    },
    {
      "cell_type": "code",
      "metadata": {
        "id": "01LiYAplpcNT",
        "outputId": "52b1ac18-56dd-4b5c-f148-bddb155154cb",
        "colab": {
          "base_uri": "https://localhost:8080/",
          "height": 119
        }
      },
      "source": [
        "x = [-20, -10, 40, 30]\n",
        "a = 0\n",
        "b = len(x)\n",
        "print(\"a = \" + str(a))\n",
        "print(\"b = \" + str(b))\n",
        "print(\"x[0:] = \" + str(x[0:]))\n",
        "print(\"x[:4] = \" + str(x[:4]))\n",
        "print(\"x[0:4] = \" + str(x[0:4]))\n",
        "print(\"x[-4:-1] = \" + str(x[-4:-1]))"
      ],
      "execution_count": null,
      "outputs": [
        {
          "output_type": "stream",
          "text": [
            "a = 0\n",
            "b = 4\n",
            "x[0:] = [-20, -10, 40, 30]\n",
            "x[:4] = [-20, -10, 40, 30]\n",
            "x[0:4] = [-20, -10, 40, 30]\n",
            "x[-4:-1] = [-20, -10, 40]\n"
          ],
          "name": "stdout"
        }
      ]
    },
    {
      "cell_type": "markdown",
      "metadata": {
        "id": "d7cUOakV4Wjy"
      },
      "source": [
        "# 5. Listas: comandos úteis\n",
        "\n",
        "Segue uma lista de comandos e seus respectivos significados:\n",
        "\n",
        "* **range** serve para especificar uma faixa de valores;\n",
        "* **list** transforma uma faixa de valores em uma lista;\n",
        "* **len** fornece o total de elementos da lista;\n",
        "* **count** conta o número de ocorrência de um determinado valor;\n",
        "* **max** retorna o elemento de maior valor;\n",
        "* **min** retorna o elemento de menor valor;\n",
        "* **index** retorna o índice na lista do valor especificado;\n",
        "* **sort** ordenação de valores em ordem crescente (**reverse = False**) ou decrescente (**reverse = True**)."
      ]
    },
    {
      "cell_type": "code",
      "metadata": {
        "id": "C5jA_Xx26RgQ",
        "outputId": "dd540cb2-9fd3-4977-bdb6-a8198da083f9",
        "colab": {
          "base_uri": "https://localhost:8080/",
          "height": 221
        }
      },
      "source": [
        "l1 = list(range(1,10,2))\n",
        "print(l1)\n",
        "print(\"len(l1) = \" + str(len(l1)))\n",
        "#print(l1.count(5))\n",
        "print(\"l1.count(5) = \" + str(l1.count(5)))\n",
        "print(\"max(l1) = \" + str(max(l1)))\n",
        "print(\"min(l1) = \" + str(min(l1)))\n",
        "print(\"l1.index(9) = \" + str(l1.index(9)))\n",
        "print(\"l1 antes do sort\")\n",
        "print(l1)\n",
        "l1.sort(reverse=False)\n",
        "print(\"l1 depois do sort, reverse = False\")\n",
        "print(l1)\n",
        "l1.sort(reverse=True)\n",
        "print(\"l1 depois do sort, reverse = True\")\n",
        "print(l1)"
      ],
      "execution_count": null,
      "outputs": [
        {
          "output_type": "stream",
          "text": [
            "[1, 3, 5, 7, 9]\n",
            "len(l1) = 5\n",
            "l1.count(5) = 1\n",
            "max(l1) = 9\n",
            "min(l1) = 1\n",
            "l1.index(9) = 4\n",
            "l1 antes do sort\n",
            "[1, 3, 5, 7, 9]\n",
            "l1 depois do sort, reverse = False\n",
            "[1, 3, 5, 7, 9]\n",
            "l1 depois do sort, reverse = True\n",
            "[9, 7, 5, 3, 1]\n"
          ],
          "name": "stdout"
        }
      ]
    },
    {
      "cell_type": "markdown",
      "metadata": {
        "id": "8feeWMaXxEv6"
      },
      "source": [
        "# 6. Listas Modificando, Adicionando e Removendo valores \n",
        "\n",
        "\n",
        "As listas são mutáveis, pois não seus elementos podem ser modificados, mas também podem ser adicionados novos elementos (**append**) ou elementos podem ser removidos (**remove(valor_e)** - remove o elemento cujo valor é **valor_e**, e **pop(ind_e)** remove o elemento contido no índice **ind_e**).\n"
      ]
    },
    {
      "cell_type": "code",
      "metadata": {
        "id": "487XpWRxxa9q",
        "outputId": "af5a6205-2d5a-49d4-8536-8eb3e4babf7f",
        "colab": {
          "base_uri": "https://localhost:8080/",
          "height": 102
        }
      },
      "source": [
        "x = [-20, -10, 40, 30]\n",
        "print(x)\n",
        "x[0] = x[1]\n",
        "print(x)\n",
        "x.append(50)\n",
        "print(x)\n",
        "x.remove(-10)\n",
        "print(x)\n",
        "x.pop(1)\n",
        "print(x)"
      ],
      "execution_count": null,
      "outputs": [
        {
          "output_type": "stream",
          "text": [
            "[-20, -10, 40, 30]\n",
            "[-10, -10, 40, 30]\n",
            "[-10, -10, 40, 30, 50]\n",
            "[-10, 40, 30, 50]\n",
            "[-10, 30, 50]\n"
          ],
          "name": "stdout"
        }
      ]
    },
    {
      "cell_type": "markdown",
      "metadata": {
        "id": "WQN30XFlynse"
      },
      "source": [
        "# 7. Listas: Criando cópias\n",
        "\n",
        "Se desejar que uma cópia de uma lista x seja feita na variável y é necessário utilizar o comando **copy** e o comando de atribuição **=**. Do contrário, será criada apenas um referência de y para x, tal que qualquer modificação em y na verdade será realizada em x."
      ]
    },
    {
      "cell_type": "code",
      "metadata": {
        "id": "hscdLuQwzQ-r",
        "outputId": "0d22da7e-34ec-4c8a-8ec3-8483fe06ed9c",
        "colab": {
          "base_uri": "https://localhost:8080/",
          "height": 221
        }
      },
      "source": [
        "x = ['red', 'blue', 'yellow', 'green']\n",
        "y = x\n",
        "print(\"Valores antes da cópia por referência\")\n",
        "print(x)\n",
        "print(y)\n",
        "y.pop(1) # eliminando o elemento [1].\n",
        "print(\"Copia da referencia\")\n",
        "print(x)\n",
        "print(y)\n",
        "\n",
        "print(\"Valores antes da cópia dos valores\")\n",
        "print(x)\n",
        "print(y)\n",
        "print(\"Copia dos valores\")\n",
        "y = x.copy()\n",
        "y.pop(1) # eliminando o elemento [0].\n",
        "print(x)\n",
        "print(y)"
      ],
      "execution_count": null,
      "outputs": [
        {
          "output_type": "stream",
          "text": [
            "Valores antes da cópia por referência\n",
            "['red', 'blue', 'yellow', 'green']\n",
            "['red', 'blue', 'yellow', 'green']\n",
            "Copia da referencia\n",
            "['red', 'yellow', 'green']\n",
            "['red', 'yellow', 'green']\n",
            "Valores antes da cópia dos valores\n",
            "['red', 'yellow', 'green']\n",
            "['red', 'yellow', 'green']\n",
            "Copia dos valores\n",
            "['red', 'yellow', 'green']\n",
            "['red', 'green']\n"
          ],
          "name": "stdout"
        }
      ]
    },
    {
      "cell_type": "markdown",
      "metadata": {
        "id": "dFQ3pzAx0v83"
      },
      "source": [
        "# 8. Fusão de listas\n",
        "\n",
        "É possível juntar o conteúdo de duas listas em uma única através dos seguintes comandos: **+**, **append**, e **extend**. Para o caso do novo elemento a ser adicionado ser uma lista, a diferença entre **l1.append(l2)** e **l1.extend(l2)** é que o primeiro comando adiciona **l2** como um novo elemento da lista ao passo que o segundo adiciona todos os elementos contidos em **l2** em novos elementos de **l1**."
      ]
    },
    {
      "cell_type": "code",
      "metadata": {
        "id": "khQ2n3EG1BYG",
        "outputId": "4a59f223-0175-4340-d788-e1a5a10fb91b",
        "colab": {
          "base_uri": "https://localhost:8080/",
          "height": 102
        }
      },
      "source": [
        "list1 = [5, 2, 3]\n",
        "list2 = ['a','b','c']\n",
        "list1 = list1 + list2\n",
        "print(list1)\n",
        "list2.extend(list1)\n",
        "print(list2)\n",
        "list1.append(list2)\n",
        "print(list1)\n",
        "list3 = [] # new empty list.\n",
        "list3.extend(list2)\n",
        "print(list3)\n",
        "list4 = list1.copy() # new list copying data from another list.\n",
        "list4.append(list2)\n",
        "print(list4)"
      ],
      "execution_count": null,
      "outputs": [
        {
          "output_type": "stream",
          "text": [
            "[5, 2, 3, 'a', 'b', 'c']\n",
            "['a', 'b', 'c', 5, 2, 3, 'a', 'b', 'c']\n",
            "[5, 2, 3, 'a', 'b', 'c', ['a', 'b', 'c', 5, 2, 3, 'a', 'b', 'c']]\n",
            "['a', 'b', 'c', 5, 2, 3, 'a', 'b', 'c']\n",
            "[5, 2, 3, 'a', 'b', 'c', ['a', 'b', 'c', 5, 2, 3, 'a', 'b', 'c'], ['a', 'b', 'c', 5, 2, 3, 'a', 'b', 'c']]\n"
          ],
          "name": "stdout"
        }
      ]
    },
    {
      "cell_type": "markdown",
      "metadata": {
        "id": "rQKNi3IBGZDn"
      },
      "source": [
        "# 9. Tuplas\n",
        "\n",
        "As tuplas (**tuples**) são similares as listas, **porém uma vez criadas não podem ser modificadas**. São úteis para a criação de valores que não podem ser mudados. Assim, o comando de atribuição de valor dado por '=' não pode ser utilizado para um elemento específico da tupla após a criação da mesma. Sua criação é ligeiramente diferente das listas e utiliza \"()\" ao invés de \"\\[\\]\". A indexação de valores também começa no valor zero e o acesso aos valores também utiliza o operador \"[index]\"."
      ]
    },
    {
      "cell_type": "code",
      "metadata": {
        "id": "ag0PFDWfGuyd",
        "outputId": "04698680-799e-4f46-b542-fca9cdeaa138",
        "colab": {
          "base_uri": "https://localhost:8080/",
          "height": 85
        }
      },
      "source": [
        "tup = (3, 2, 5, 1)\n",
        "cor = (\"blue\",\"red\",\"yellow\",\"green\")\n",
        "print(tup[1])\n",
        "print(tup[1:])\n",
        "print(tup[:3])\n",
        "print(cor[-4:])"
      ],
      "execution_count": null,
      "outputs": [
        {
          "output_type": "stream",
          "text": [
            "2\n",
            "(2, 5, 1)\n",
            "(3, 2, 5)\n",
            "('blue', 'red', 'yellow', 'green')\n"
          ],
          "name": "stdout"
        }
      ]
    },
    {
      "cell_type": "markdown",
      "metadata": {
        "id": "Wdux7eQsIcRs"
      },
      "source": [
        "# 10. Conjuntos\n",
        "\n",
        "Os conjuntos (**sets**)são declarados utilizando-se os operadores **'{}'**. Seus valores podem ser alterados como nas listas, porém estes não possuem uma indexação tal que a única forma de acessar seus elementos é através dos nomes dos elementos. Para realizar a adição de um elemento usa-se **add** e múltiplos usa-se **update**. Para a remoção de um elemento usa-se **remove** ou **discard**. Para armazenar a união de dois conjuntos em um terceiro e novo conjunto usa-se **union** e para armazenar o resultado da união em um dos conjuntos usa-se **update**. O comando **issubset** verifica se um conjunto é subconjunto de outro conjunto e o resultado a ser retornado será **True** se o conjunto for subconjunto de outro ou **false**, caso contrário. O comando **intersection** retorna um subconjunto que é a intersecção entre dois conjuntos."
      ]
    },
    {
      "cell_type": "code",
      "metadata": {
        "id": "JAZNnb3AKEWY",
        "outputId": "d49c2ab9-744d-4d10-f93a-441aa81e3d0e",
        "colab": {
          "base_uri": "https://localhost:8080/",
          "height": 170
        }
      },
      "source": [
        "set1 = {\"banana\",\"maçã\",\"uva\",\"laranja\"}\n",
        "set2 = {\"green\", \"blue\", \"yellow\", \"red\"}\n",
        "print(\"banana\" in set1) # Retorna verdadeiro (True) se houver o elemento banana em set1.\n",
        "set1.add(\"mamão\")\n",
        "print(set1)\n",
        "set2.update([\"orange\", \"white\", \"black\"])\n",
        "print(set2)\n",
        "set2.remove(\"orange\")\n",
        "print(set2)\n",
        "set2.discard(\"white\")\n",
        "print(set2)\n",
        "set3 = set1.union(set2)\n",
        "print(set3)\n",
        "set2.update(set1)\n",
        "print(set2)\n",
        "res = set1.issubset(set3)\n",
        "print(res)\n",
        "set4 = set3.intersection(set1)\n",
        "print(set4)"
      ],
      "execution_count": null,
      "outputs": [
        {
          "output_type": "stream",
          "text": [
            "True\n",
            "{'uva', 'mamão', 'banana', 'maçã', 'laranja'}\n",
            "{'orange', 'white', 'red', 'green', 'black', 'blue', 'yellow'}\n",
            "{'white', 'red', 'green', 'black', 'blue', 'yellow'}\n",
            "{'red', 'green', 'black', 'blue', 'yellow'}\n",
            "{'uva', 'red', 'mamão', 'banana', 'green', 'maçã', 'laranja', 'black', 'blue', 'yellow'}\n",
            "{'uva', 'red', 'mamão', 'banana', 'green', 'maçã', 'laranja', 'black', 'blue', 'yellow'}\n",
            "True\n",
            "{'uva', 'mamão', 'banana', 'maçã', 'laranja'}\n"
          ],
          "name": "stdout"
        }
      ]
    },
    {
      "cell_type": "markdown",
      "metadata": {
        "id": "5LrqrxxoSJ9x"
      },
      "source": [
        "# 11. Dicionários \n",
        "\n",
        "Os dicionários (**dictionaries**) é uma coleção sem ordenação, mutável e com indexação. Seus elementos são organizados em um estrutura de par (chave: valor) e são separados por vírgulas. A chave pode ser qualquer tipo básico, e o valor pode ser um tipo básico ou uma coleção. A declaração de um dicionário utiliza o operador '{}'. Para acessar um valor ('value') é necessário fornecer o nome da chave correspondente ('key') utilizando o operador '[]'. Para se saber quais as chaves de um dicionário d usa-se **d.keys()**, os valores usa-se **d.values()**, e chaves e valores usa-se **items**. Para se modificar o valor val com val2 na posição **pos** de uma lista **l1** associada a uma chave **'k'** de um \n",
        "dicionário **d** usa-se **d['k'][pos] = val2**."
      ]
    },
    {
      "cell_type": "code",
      "metadata": {
        "id": "LMVPMwaUPAcv",
        "outputId": "dd83da18-2a4d-4297-ff14-14874bb8590a",
        "colab": {
          "base_uri": "https://localhost:8080/",
          "height": 170
        }
      },
      "source": [
        "cores = {1: 'blue', 2: 'red', 3: 'yellow', 4: 'green'}\n",
        "dados = {'x': [1, 2, 3, 4, 5], 'y': [1, 4, 9, 16, 25]}\n",
        "\n",
        "print(cores[1])\n",
        "print(dados['x'])\n",
        "print(cores.keys())\n",
        "print(dados.values())\n",
        "print(cores.items())\n",
        "print(cores)\n",
        "cores[\"4\"] = 'black'\n",
        "print(cores)\n",
        "print(dados)\n",
        "dados[\"y\"][0] = 0\n",
        "print(dados)"
      ],
      "execution_count": null,
      "outputs": [
        {
          "output_type": "stream",
          "text": [
            "blue\n",
            "[1, 2, 3, 4, 5]\n",
            "dict_keys([1, 2, 3, 4])\n",
            "dict_values([[1, 2, 3, 4, 5], [1, 4, 9, 16, 25]])\n",
            "dict_items([(1, 'blue'), (2, 'red'), (3, 'yellow'), (4, 'green')])\n",
            "{1: 'blue', 2: 'red', 3: 'yellow', 4: 'green'}\n",
            "{1: 'blue', 2: 'red', 3: 'yellow', 4: 'green', '4': 'black'}\n",
            "{'x': [1, 2, 3, 4, 5], 'y': [1, 4, 9, 16, 25]}\n",
            "{'x': [1, 2, 3, 4, 5], 'y': [0, 4, 9, 16, 25]}\n"
          ],
          "name": "stdout"
        }
      ]
    },
    {
      "cell_type": "markdown",
      "metadata": {
        "id": "mESpDZGhSkag"
      },
      "source": [
        "# 12. Sumário dos tipos básicos e coleções\n",
        "\n",
        "Os tipos básicos e coleções são resumidos a seguir:\n",
        "\n",
        "* ## **Tipos básicos**\n",
        "\n",
        "### **Tipos int: valores inteiros**\n",
        "\n",
        "canetas = 10\n",
        "\n",
        "### **Tipo float: valores reais**\n",
        "\n",
        "temperatura = 10.2\n",
        "\n",
        "### **Tipo str: palavras e letras**\n",
        "\n",
        "mensagem = \"Mensagem codificada\"\n",
        "\n",
        "\n",
        "* ## **Coleções**\n",
        "\n",
        "### **Listas: conjunto de valores mutáveis e ordenados de tipos básicos ou coleções**\n",
        "\n",
        "cores = [\"black\", \"white\", \"red\", \"green\"]\n",
        "\n",
        "dados = [30.2, 76.1, 90.2, 56.3]\n",
        "\n",
        "relacao = [cores, dados]\n",
        "\n",
        "Para obtenção dos valores contidos na estrutura usa-se lista[index]. Ex: cores[0].\n",
        "\n",
        "\n",
        "### **Tuplas: lista de valores imutáveis**\n",
        "\n",
        "vogais = ('a', 'e', 'i', 'o', 'u')\n",
        "\n",
        "digitos = (0, 1, 2, 3, 4, 5, 6, 7, 8, 9)\n",
        "\n",
        "Para acesso aos valores usa-se tupla[index]. Ex: vogais[0].\n",
        "\n",
        "\n",
        "### **Conjuntos: lista de valores mutáveis, porém sem ordenação**\n",
        "\n",
        "set1 = {\"banana\",\"maçã\",\"uva\",\"laranja\"}\n",
        "\n",
        "set2 = {\"green\", \"blue\", \"yellow\", \"red\"}\n",
        "\n",
        "Operações com conjuntos podem ser realizadas com comandos tal como **union**:\n",
        "**set3 = set1.union(set2)**.\n",
        "\n",
        "\n",
        "\n",
        "### **Dicionários: valores mutáveis organizados em pares - chaves e valores**\n",
        "\n",
        "cadastro = {\"João\": \"+37682929928\", \"Maria\": \"+423998200919\"}\n",
        "\n",
        "As chaves de um dicionário podem ser obtidas com:  **cadastro.keys()**\n",
        "\n",
        "Os valores de um dicionário podem ser obtidas com: **cadastro.values()**\n",
        "\n",
        "As chaves e os valores de um dicionário podem ser obtidos com: **cadastro.items()**\n",
        "\n",
        "O acesso a um valor específico pode ser realizado com: **cadastro[\"João\"]**\n"
      ]
    },
    {
      "cell_type": "code",
      "source": [
        "# Leitura de valores de entrada\n",
        "\n",
        "# Identificação da operação a ser realizada\n",
        "\n",
        "# Cálculo\n",
        "\n",
        "def numero():\n",
        "  n1 = float(input(\"Digite um valor:\"))\n",
        "  n2 = float(input(\"Digite outro valor:\"))\n",
        "  operador = input(\"Digite o sinal da operação que deseja fazer:\")\n",
        "  return n1, n2, operador\n",
        "\n",
        "def operacao():\n",
        "  operador = input()\n",
        "  if(operador == \"+\"):\n",
        "    return(\"soma\")\n",
        "  elif(operador == \"-\"):\n",
        "    return(\"subtração\")\n",
        "  elif(operador == \"/\"):\n",
        "    return(\"divisão\")\n",
        "  elif(operador == \"*\"):\n",
        "    return(\"multiplicação\")\n",
        "  return operacao\n",
        "\n",
        "def calculo():\n",
        "  n1, n2, operador = input()\n",
        "  if(operador() == \"soma\"):\n",
        "    return(n1 + n2)\n",
        "  elif(operador() == \"subtração\"):\n",
        "    return(n1 - n2)\n",
        "  elif(operador() == \"divisão\"):\n",
        "    return(n1 / n2)\n",
        "  elif(operador() == \"multiplicação\"):\n",
        "    return(n1 * n2)\n",
        "  return calculo\n",
        "\n",
        "print(input(), operacao(), calculo())\n",
        "\n"
      ],
      "metadata": {
        "id": "ACoA1_S5CaL8",
        "outputId": "60e524db-7451-4e99-ebd6-41f8001680d5",
        "colab": {
          "base_uri": "https://localhost:8080/",
          "height": 339
        }
      },
      "execution_count": 8,
      "outputs": [
        {
          "output_type": "error",
          "ename": "TypeError",
          "evalue": "ignored",
          "traceback": [
            "\u001b[0;31m---------------------------------------------------------------------------\u001b[0m",
            "\u001b[0;31mTypeError\u001b[0m                                 Traceback (most recent call last)",
            "\u001b[0;32m<ipython-input-8-e35859c24af9>\u001b[0m in \u001b[0;36m<cell line: 37>\u001b[0;34m()\u001b[0m\n\u001b[1;32m     35\u001b[0m   \u001b[0;32mreturn\u001b[0m \u001b[0mcalculo\u001b[0m\u001b[0;34m\u001b[0m\u001b[0;34m\u001b[0m\u001b[0m\n\u001b[1;32m     36\u001b[0m \u001b[0;34m\u001b[0m\u001b[0m\n\u001b[0;32m---> 37\u001b[0;31m \u001b[0mprint\u001b[0m\u001b[0;34m(\u001b[0m\u001b[0minput\u001b[0m\u001b[0;34m(\u001b[0m\u001b[0;34m)\u001b[0m\u001b[0;34m,\u001b[0m \u001b[0moperacao\u001b[0m\u001b[0;34m(\u001b[0m\u001b[0;34m)\u001b[0m\u001b[0;34m,\u001b[0m \u001b[0mcalculo\u001b[0m\u001b[0;34m(\u001b[0m\u001b[0;34m)\u001b[0m\u001b[0;34m)\u001b[0m\u001b[0;34m\u001b[0m\u001b[0;34m\u001b[0m\u001b[0m\n\u001b[0m\u001b[1;32m     38\u001b[0m \u001b[0;34m\u001b[0m\u001b[0m\n",
            "\u001b[0;32m<ipython-input-8-e35859c24af9>\u001b[0m in \u001b[0;36minput\u001b[0;34m()\u001b[0m\n\u001b[1;32m      6\u001b[0m \u001b[0;34m\u001b[0m\u001b[0m\n\u001b[1;32m      7\u001b[0m \u001b[0;32mdef\u001b[0m \u001b[0minput\u001b[0m\u001b[0;34m(\u001b[0m\u001b[0;34m)\u001b[0m\u001b[0;34m:\u001b[0m\u001b[0;34m\u001b[0m\u001b[0;34m\u001b[0m\u001b[0m\n\u001b[0;32m----> 8\u001b[0;31m   \u001b[0mn1\u001b[0m \u001b[0;34m=\u001b[0m \u001b[0mfloat\u001b[0m\u001b[0;34m(\u001b[0m\u001b[0minput\u001b[0m\u001b[0;34m(\u001b[0m\u001b[0;34m\"Digite um valor:\"\u001b[0m\u001b[0;34m)\u001b[0m\u001b[0;34m)\u001b[0m\u001b[0;34m\u001b[0m\u001b[0;34m\u001b[0m\u001b[0m\n\u001b[0m\u001b[1;32m      9\u001b[0m   \u001b[0mn2\u001b[0m \u001b[0;34m=\u001b[0m \u001b[0mfloat\u001b[0m\u001b[0;34m(\u001b[0m\u001b[0minput\u001b[0m\u001b[0;34m(\u001b[0m\u001b[0;34m\"Digite outro valor:\"\u001b[0m\u001b[0;34m)\u001b[0m\u001b[0;34m)\u001b[0m\u001b[0;34m\u001b[0m\u001b[0;34m\u001b[0m\u001b[0m\n\u001b[1;32m     10\u001b[0m   \u001b[0moperador\u001b[0m \u001b[0;34m=\u001b[0m \u001b[0minput\u001b[0m\u001b[0;34m(\u001b[0m\u001b[0;34m\"Digite o sinal da operação que deseja fazer:\"\u001b[0m\u001b[0;34m)\u001b[0m\u001b[0;34m\u001b[0m\u001b[0;34m\u001b[0m\u001b[0m\n",
            "\u001b[0;31mTypeError\u001b[0m: input() takes 0 positional arguments but 1 was given"
          ]
        }
      ]
    }
  ]
}