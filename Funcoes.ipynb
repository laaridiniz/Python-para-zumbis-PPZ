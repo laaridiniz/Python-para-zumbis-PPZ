{
  "nbformat": 4,
  "nbformat_minor": 0,
  "metadata": {
    "colab": {
      "provenance": [],
      "include_colab_link": true
    },
    "kernelspec": {
      "name": "python3",
      "display_name": "Python 3"
    }
  },
  "cells": [
    {
      "cell_type": "markdown",
      "metadata": {
        "id": "view-in-github",
        "colab_type": "text"
      },
      "source": [
        "<a href=\"https://colab.research.google.com/github/laaridiniz/Python-para-zumbis-PPZ/blob/main/Funcoes.ipynb\" target=\"_parent\"><img src=\"https://colab.research.google.com/assets/colab-badge.svg\" alt=\"Open In Colab\"/></a>"
      ]
    },
    {
      "cell_type": "markdown",
      "metadata": {
        "id": "GhzT5EX_Q2ph",
        "colab_type": "toc"
      },
      "source": [
        ">[Verificando seu conhecimento](#scrollTo=bqVSq8BLdiEV)\n",
        "\n",
        ">[Uma breve visão sobre funções](#scrollTo=GKzbaXzEdoAA)\n",
        "\n",
        ">[Utilizando mais de um parâmetro e retorno de valores](#scrollTo=81q4EAd_Mc8t)\n",
        "\n",
        ">[Utilizando mais de um parâmetro](#scrollTo=z5ZDIYcQPx2o)\n",
        "\n",
        ">[Utilizando mais de um parâmetro e valores padrão](#scrollTo=rQMm4T1Hukac)\n",
        "\n",
        ">[Funções que chamam funções](#scrollTo=tv91GnKOY_r6)\n",
        "\n",
        ">[Chamadas de funções com palavras-chave e passando listas como parâmetro de uma função](#scrollTo=mtgVmvNy1fEw)\n",
        "\n",
        ">[Passando todos os parâmetros como uma lista](#scrollTo=G5wsrylgV5Gq)\n",
        "\n",
        ">[Passagem de um número arbitrário de parâmetros](#scrollTo=VH-SwN0JZZOq)\n",
        "\n",
        ">[Calcular a soma dos elementos de uma lista com números](#scrollTo=ULNFel0zIKb4)\n",
        "\n",
        ">[Cálculo da média de valores em uma lista](#scrollTo=PYT2hMP52mTz)\n",
        "\n",
        ">[Cálculo do fatorial de um número](#scrollTo=4wc1t0hhb1KZ)\n",
        "\n",
        ">[Múltiplos retornos](#scrollTo=DEown6P8KLxx)\n",
        "\n",
        ">[Passando nomes de funções como parâmetros](#scrollTo=6fD9-AqrWgW8)\n",
        "\n",
        ">[Encontrar o maior valor de uma lista](#scrollTo=J-KpmqByJn5o)\n",
        "\n",
        ">[Contar número de ocorrências de um elemento em uma lista](#scrollTo=dWhJ8Fw1L52A)\n",
        "\n",
        ">[Verificar se duas sequências são iguais](#scrollTo=lIN1r413Rw_p)\n",
        "\n",
        ">[Verificar o número de ocorrências de uma subsequência em uma sequência](#scrollTo=rkwPF4CsMDFm)\n",
        "\n",
        ">[Funções recursivas](#scrollTo=w3QGwPlHhe-M)\n",
        "\n",
        ">[Desafio 1: Verificando se uma função é um palíndromo](#scrollTo=hjbMvI04enie)\n",
        "\n",
        ">[Desafio 2: Chamadas de funções com palavras-chave e passando listas como argumento de uma função no cálculo de média aritmética e geométrica](#scrollTo=ERcYbr90cL8S)\n",
        "\n",
        ">[Desafio 3: Cálculo de desvio-padrão populacional e amostral](#scrollTo=AGja59znir0w)\n",
        "\n",
        ">[Desafio 4: Desvendando os segredos do Google - PageRank](#scrollTo=-F6lFZRqMTm9)\n",
        "\n"
      ]
    },
    {
      "cell_type": "markdown",
      "metadata": {
        "id": "bqVSq8BLdiEV"
      },
      "source": [
        "# 0. Verificando seu conhecimento\n",
        "\n",
        "Se conseguir entender os códigos dos quatro desafios fornecidos no final desta seção, então, não é necessário estudar os conceitos aqui abordados. Use o índice dado acima para uma navegação mais rápida até os desafios.\n"
      ]
    },
    {
      "cell_type": "markdown",
      "metadata": {
        "id": "GKzbaXzEdoAA"
      },
      "source": [
        "# 1. Uma breve visão sobre funções\n",
        "\n",
        "O Python permite que um conjunto de instruções sejam agrupadas sob o nome de uma função. Na prática isso permite a criação de novos comandos.\n",
        "\n",
        "Um primeiro propósito para isso é facilitar a manutenção e a legibilidade do seu código de um programa. Isto porque ao invés de repetir as mesmas instruções ao longo de um programa você pode chamar uma função que contém um bloco de instruções. Depois, se for necessário realizar alguma correção ou alteração para as instruções, então, bastará modificar um único lugar: o conteúdo da função.\n",
        "\n",
        "Para tanto a palavra reservada **def** deverá ser usada seguido do nome da função. A estrutura geral será dada por:\n",
        "\n",
        ">**def** nome_funcao(parametros_entrada)**:**\n",
        ">>  comando1\n",
        "\n",
        ">>  comando2\n",
        "\n",
        ">>  **return** variaveis_saida\n",
        "\n",
        "\n",
        "Para que a função criada seja acionada pelo programa basta utilizar o seu nome com os parâmetros corretos (isto é, os valores com tipos e ordem corretos) entre parêntesis, logo após a definição da função e fora do **escopo da função**, isto é, o código logo após a função que não tem espaçamento regular.\n",
        "\n",
        "**Importante 1**: a linha da função que contém o nome da função e os parâmetros de entrada é chamada de **cabeçalho da função**.\n",
        "\n",
        "**Importante 2**: observar que as funções podem ter ou não parâmetros de entrada e parâmetros de saída como será observado nos exemplos dados a seguir. \n",
        "\n",
        "**Importante 3**: Logo depois do nome da função e seus parâmetros entre parêntesis deve vir o símbolo **':'**.\n",
        "\n",
        "**Importante 4**: os comandos subjacentes à função devem ter um espaçamento regular em relação à margem da tela para indicar que só serão executados caso o nome da função seja digitado. O espaçamento regular é chamado de **indentação** e ao se digitar o nome da função para a que a mesma seja executada é denominado de **chamada à função**.\n",
        "\n",
        "**Importante 5**: embora os **tipos dos parâmetros de entrada e saída não sejam especificados** é importante que ao se chamar a função os valores passados para esses parâmetros sejam **compatíveis com as instruções** a serem realizadas na **função**.\n",
        "\n",
        "**Importante 6**: para facilitar a leitura do seu código, em geral, as novas **funções criadas** são **definidas antes** do **código** que irá **executá-las.**\n",
        "\n",
        "**Importante 7**: o fluxo de execução do programa segue os seguintes passos:\n",
        "\n",
        "1. Leitura das instruções fora do **escopo da função**;\n",
        "2. O nome da função é encontrado e o fluxo de execução do programa é desviado para o conjunto de comandos subjacentes à função;\n",
        "3. Os comandos contidos na função são executados até que o final da função, isto é, o primeiro comando sem a indentação, seja encontrado ou o comando **return**;\n",
        "4. O fluxo de execução retorna ao ponto onde o nome da função foi encontrado;\n",
        "5. Os demais comandos subsequentes no código fora do escopo da função são acionados na sequência em que são dados de cima para baixo.\n",
        "6. A última instrução é executada e o programa é finalizado.\n",
        "\n",
        "Um exemplo que ilustra os pontos acima é dado por:\n",
        "\n",
        "> **def nome_funcao**(parametros_funcao)**:** $#3.1 Início execução função$\n",
        ">>   instrucao2 \n",
        ">>\n",
        ">>   instrucao3                                 $#3.2 Término execução função$\n",
        ">\n",
        ">\n",
        ">    instrucao1         $#1. O programa começa por aqui$\n",
        ">\n",
        ">    $#4. Retorno da função$ **nome_funcao(p_f)** $#2. Desvio para função$\n",
        ">\n",
        ">    instrucao4  $#5. Continua o fluxo de execução$\n",
        ">\n",
        ">    instrucao5  $#6. Realiza a última instrução e termina o programa$\n",
        "\n",
        "\n",
        "A seguir é dada uma função que cria uma nova forma de imprimir o conteúdo de variáveis a partir do comando **print** tal que toda mensagem será cercada por um caractere especial para decoração '-'."
      ]
    },
    {
      "cell_type": "code",
      "metadata": {
        "id": "L9-gfdbdt6yY",
        "colab": {
          "base_uri": "https://localhost:8080/",
          "height": 85
        },
        "outputId": "c27fbae4-99f0-41ae-8eaf-23d9b2121b05"
      },
      "source": [
        "def bprint(mens):\n",
        "  print('----------------')\n",
        "  print(mens)\n",
        "  print('----------------')\n",
        "\n",
        "mens = input('Digite uma mensagem:')\n",
        "bprint(mens)"
      ],
      "execution_count": null,
      "outputs": [
        {
          "output_type": "stream",
          "text": [
            "Digite uma mensagem:leia\n",
            "----------------\n",
            "leia\n",
            "----------------\n"
          ],
          "name": "stdout"
        }
      ]
    },
    {
      "cell_type": "markdown",
      "metadata": {
        "id": "81q4EAd_Mc8t"
      },
      "source": [
        "# 2. Utilizando mais de um parâmetro e retorno de valores\n",
        "\n",
        "Em princípio funções podem ter quantos parâmetros forem necessários para a passagem de informações a serem utilizadas nas instruções contidas nelas. Além disso, é possível que as funções retornem resultados de operações realizadas internamente. \n",
        "\n",
        "A função dada a seguir, **somaStr(x,y)**, calcula a soma de dois números x e y no formato tipo **str**, e retorna o resultado em uma variável z tipo **str**. Durante o processo é necessário converter as variáveis x e y de tipo **str** para tipo **float**, realizar a operação de aritmética e retornar o resultado **float** convertido para tipo **str**.\n",
        "\n"
      ]
    },
    {
      "cell_type": "code",
      "metadata": {
        "id": "4-ZncHy9MoaR",
        "colab": {
          "base_uri": "https://localhost:8080/",
          "height": 68
        },
        "outputId": "bea86585-78f1-4755-a92e-e4d29b6bf4ff"
      },
      "source": [
        "def somaStr(x,y):\n",
        "  z = float(x) + float(y)\n",
        "  z = str(z)\n",
        "  return z\n",
        "\n",
        "x = input('Digite um número: ')\n",
        "y = input('Digite outro número: ')\n",
        "z = somaStr(x,y)\n",
        "print(\"{0:s} + {1:s} = {2:s} \".format(x, y, z))"
      ],
      "execution_count": null,
      "outputs": [
        {
          "output_type": "stream",
          "text": [
            "Digite um número: 3.3\n",
            "Digite outro número: 4.4\n",
            "3.3 + 4.4 = 7.7 \n"
          ],
          "name": "stdout"
        }
      ]
    },
    {
      "cell_type": "markdown",
      "metadata": {
        "id": "z5ZDIYcQPx2o"
      },
      "source": [
        "# 3. Utilizando mais de um parâmetro \n",
        "\n",
        "As funções podem ter mais de um parâmetro de entrada e cada um pode ser de um tipo diferente. A função a seguir melhora a função **bprint** para que esta seja capaz de não só imprimir qualquer mensagem com uma decoração, mas também ser possível imprimir qualquer símbolo para a decoração de modo que **bprint** terá o seguinte cabeçalho **bprint(men, simb)**. \n",
        "\n",
        "Importante frisar que está ímplicito que o tipo da variável **men** é **str** e o tipo da variável **simb** também é **str**.\n",
        "\n",
        "Além disso, para a decoração ser impressa com o caractere contido na variável **simb** sem que haja um caractere por linha foi utilizado o comando **print(simb, end = '')**. Esse comando imprime apenas o símbolo contido em **simb** sem que uma nova linha seja adicionada na tela.\n",
        "\n",
        "Para que o símbolo contido em **simb** fosse impresso 10 vezes utilizou um comando **for** que irá executar a **10** vezes a instrução correspondente de impressão. Depois do comando de impressão, para que haja uma nova linha é utilizado um comando **print('')**."
      ]
    },
    {
      "cell_type": "code",
      "metadata": {
        "id": "jc3fgSiGPwcd",
        "colab": {
          "base_uri": "https://localhost:8080/",
          "height": 68
        },
        "outputId": "787d9288-e8ff-4e33-c916-fb42648b7cb8"
      },
      "source": [
        "def bprint(men, simb):\n",
        "  for i in range(1,10,1):\n",
        "    print(simb, end = '')\n",
        "  print('')  \n",
        "  print(men)     \n",
        "  for i in range(1,10,1):\n",
        "    print(simb, end = '')\n",
        "  print('')    \n",
        "  \n",
        "m = 'Mensagem'\n",
        "s   = '*'\n",
        "\n",
        "bprint(m,s)"
      ],
      "execution_count": null,
      "outputs": [
        {
          "output_type": "stream",
          "text": [
            "*********\n",
            "Mensagem\n",
            "*********\n"
          ],
          "name": "stdout"
        }
      ]
    },
    {
      "cell_type": "markdown",
      "metadata": {
        "id": "rQMm4T1Hukac"
      },
      "source": [
        "# 4. Utilizando mais de um parâmetro e valores padrão\n",
        "\n",
        "A função **bprint** do programa anterior pode ser melhorada de duas formas:\n",
        "\n",
        "1. Um terceiro parâmetro, do tipo **int**, pode ser utilizado para definir o número de vezes que um caractere especial para decoração da mensagem deverá ser empregado.\n",
        "\n",
        "2. São estabelecidos valores padrão para os parâmetros de entrada. Eles serão utilizados caso valores não sejam fornecidos pelo usuário.\n",
        "\n",
        "A nova função **bprint** terá o seguinte cabeçalho: **bprint(men,simb='-', n = 10)** indicando que os valores padrão para a variável **simb** e **n** terão como valor padrão o símbolo **'-'** e **10**, respectivamente. Os tipos implícitos para os parâmetros **simb** e **n** são **str** e **int**, respectivamente."
      ]
    },
    {
      "cell_type": "code",
      "metadata": {
        "id": "gDxyFfIK166f",
        "colab": {
          "base_uri": "https://localhost:8080/",
          "height": 170
        },
        "outputId": "001e2b52-c601-4ecc-e9f6-d79b8056a2a3"
      },
      "source": [
        "def bprint(men, simb='-', n = 10):\n",
        "  for i in range(1,n,1):\n",
        "    print(simb, end = '')\n",
        "  print('')  \n",
        "  print(men)     \n",
        "  for i in range(1,n,1):\n",
        "    print(simb, end = '')\n",
        "  print('')    \n",
        "  \n",
        "m = 'Mensagem'\n",
        "s   = '*'\n",
        "n   = 5\n",
        "\n",
        "bprint(m)\n",
        "bprint(m,s)\n",
        "bprint(m,s,n = 20)"
      ],
      "execution_count": null,
      "outputs": [
        {
          "output_type": "stream",
          "text": [
            "---------\n",
            "Mensagem\n",
            "---------\n",
            "*********\n",
            "Mensagem\n",
            "*********\n",
            "*******************\n",
            "Mensagem\n",
            "*******************\n"
          ],
          "name": "stdout"
        }
      ]
    },
    {
      "cell_type": "markdown",
      "metadata": {
        "id": "tv91GnKOY_r6"
      },
      "source": [
        "# 5. Funções que chamam funções\n",
        "\n",
        "A função **bprint** do programa anterior pode ser melhorada, bastando eliminar a duplicidade de linhas de código associada a impressão do caractere especial contido na variável **simb**. Em particular a duplicidade está contida nas seguintes linhas de código:\n",
        "\n",
        ">**for** i in range(1,**n**,1):\n",
        ">>    print(simb, end = ' ')\n",
        ">>\n",
        ">>  print(' ')  \n",
        "\n",
        "Essas linhas de código poderão ser trocadas por uma função **sprint** cujos parâmetros de entrada serão **simb** e **n**. Deseja-se que a saída dessa nova função **sprint** seja a impressão **n** vezes da variável **simb** do tipo **str**."
      ]
    },
    {
      "cell_type": "code",
      "metadata": {
        "id": "dYcbnZfYaoFB",
        "colab": {
          "base_uri": "https://localhost:8080/",
          "height": 170
        },
        "outputId": "5992c07f-7e23-43fd-8dd2-dac5e01f9678"
      },
      "source": [
        "def sprint(ss,nn):\n",
        "  for i in range(1,nn,1):\n",
        "    print(ss, end = '')\n",
        "  print('')  \n",
        "\n",
        "def bprint(men, simb='-', n = 10):\n",
        "  sprint(simb,n)\n",
        "  print(men)\n",
        "  sprint(simb,n)\n",
        "  \n",
        "m = 'Mensagem'\n",
        "s   = '*'\n",
        "n   = 5\n",
        "\n",
        "bprint(m)\n",
        "bprint(m,s)\n",
        "bprint(m,s,n = 20)"
      ],
      "execution_count": null,
      "outputs": [
        {
          "output_type": "stream",
          "text": [
            "---------\n",
            "Mensagem\n",
            "---------\n",
            "*********\n",
            "Mensagem\n",
            "*********\n",
            "*******************\n",
            "Mensagem\n",
            "*******************\n"
          ],
          "name": "stdout"
        }
      ]
    },
    {
      "cell_type": "markdown",
      "metadata": {
        "id": "mtgVmvNy1fEw"
      },
      "source": [
        "# 6. Chamadas de funções com palavras-chave e passando listas como parâmetro de uma função\n",
        "\n",
        "É possível criar funções cuja ordem dos parâmetros não é a mesma daquela que é declarada no **cabeçalho** da função. Para tanto, é necessário utilizar na **chamada** da função os mesmos **nomes** dos parâmetros de entrada que foram declarados no **cabeçalho** dela.\n",
        "\n",
        "Além disso, é possível passar variáveis do tipo lista como parâmetro de entrada de uma função e essa modificação será realizada para usar uma lista para a passagem de dois parâmetros de tipos diferentes. O parâmetro do tipo lista também pode ter um valor padrão.\n",
        "\n",
        "Modificar a função **bprint** para ter dois parâmetros: \n",
        "\n",
        "1. **men**: armazena a mensagem a ser impressa;\n",
        "2. **listapar**: lista que contém os parâmetros de **símbolo** (primeiro elemento) e **número** de vezes que o símbolo será impresso (segundo elemento)."
      ]
    },
    {
      "cell_type": "code",
      "metadata": {
        "id": "XC_ExAfP2l53",
        "colab": {
          "base_uri": "https://localhost:8080/",
          "height": 119
        },
        "outputId": "a1bb961e-ecb8-4d7e-fc9b-52b68270996f"
      },
      "source": [
        "def sprint(ss,nn):\n",
        "  for i in range(1,nn,1):\n",
        "    print(ss, end = '')\n",
        "  print('')  \n",
        "\n",
        "def bprint(men, listapar=['-', 10]):\n",
        "  simb = listapar[0]\n",
        "  n    = listapar[1]\n",
        "  sprint(simb,n)\n",
        "  print(men)\n",
        "  sprint(simb,n)\n",
        "  \n",
        "m = 'Mensagem'\n",
        "lista = ['*', 20]\n",
        "\n",
        "bprint(men = m)\n",
        "bprint(men = m,listapar=lista)"
      ],
      "execution_count": null,
      "outputs": [
        {
          "output_type": "stream",
          "text": [
            "---------\n",
            "Mensagem\n",
            "---------\n",
            "*******************\n",
            "Mensagem\n",
            "*******************\n"
          ],
          "name": "stdout"
        }
      ]
    },
    {
      "cell_type": "markdown",
      "metadata": {
        "id": "G5wsrylgV5Gq"
      },
      "source": [
        "# 7. Passando todos os parâmetros como uma lista\n",
        "\n",
        "A função **bprint** descrita na seção anterior pode ter todos os seus parâmetros passados através de uma única lista. Nesse caso, a ordem com que os valores são passados dentro da lista para a função é importante.\n",
        "\n",
        "Para a recuperação do valores contidos na lista deverá ser empregado o operador **[i]** para a acessar o (i-ésimo + 1) elemento da lista."
      ]
    },
    {
      "cell_type": "code",
      "metadata": {
        "id": "HHhgmQuyXBV3",
        "colab": {
          "base_uri": "https://localhost:8080/",
          "height": 68
        },
        "outputId": "8d9e8ca1-1192-49ab-c423-98eb09e6412b"
      },
      "source": [
        "def sprint(ss,nn):\n",
        "  for i in range(1,nn,1):\n",
        "    print(ss, end = '')\n",
        "  print('')  \n",
        "\n",
        "def bprint(listapar=['padrão', '-', 10]):\n",
        "  men  = listapar[0]\n",
        "  simb = listapar[1]\n",
        "  n    = listapar[2]\n",
        "  sprint(simb,n)\n",
        "  print(men)\n",
        "  sprint(simb,n)\n",
        "  \n",
        "m = 'Mensagem'\n",
        "lista = ['*', 20]\n",
        "lista.insert(0,m)\n",
        "\n",
        "bprint(lista)"
      ],
      "execution_count": null,
      "outputs": [
        {
          "output_type": "stream",
          "text": [
            "*******************\n",
            "Mensagem\n",
            "*******************\n"
          ],
          "name": "stdout"
        }
      ]
    },
    {
      "cell_type": "markdown",
      "metadata": {
        "id": "VH-SwN0JZZOq"
      },
      "source": [
        "# 8. Passagem de um número arbitrário de parâmetros \n",
        "\n",
        "É possível criar funções cuja ordem dos parâmetros não é a mesma daquela que é declarada no **cabeçalho** da função. Além disso, não é necessário enumerar *a priori* o número de parâmetros no cabeçalho da função, bastando utilizar o comando **\\*\\*nome_parametros** como parâmetro de entrada. Porém, é importante utilizar no momento da **chamada** de função os mesmos **nomes** dos parâmetros de entrada que serem utilizados  no escopo da função. A sintaxe da chamada da função será dada por:\n",
        "\n",
        "> nome_funcao(**p1** = valor1, **p2** = valor2)**\n",
        "\n",
        "Já o cabeçalho da função será dado por:\n",
        "\n",
        "> **def** nome_funcao(**\\*\\*parametros**):\n",
        "\n",
        "Por último, a instrução que faz uso dos parâmetros utiliza a recuperação de valores por meio dos nomes usados na chamada da função como indexadores da variável declarada no cabeçalho como dado a seguir:\n",
        "\n",
        "> **parametros**[**\"p1\"**] # recuperação do **valor1** contido na variável **p1**\n",
        ">\n",
        "> **parametros**[**\"p2\"**] # recuperação do **valor2** contido na variável **p2**\n",
        "\n",
        "A função **embaralha** dada a seguir realiza o embaralhamento de uma mensagem utilizado o conceito anteriormente enunciado."
      ]
    },
    {
      "cell_type": "code",
      "metadata": {
        "id": "-dR1e26cZsyq",
        "colab": {
          "base_uri": "https://localhost:8080/",
          "height": 34
        },
        "outputId": "528d9fa0-40f7-4e75-b2f3-3f585cd42f1c"
      },
      "source": [
        "def embaralha(**men):\n",
        "  print(men[\"p2\"] + men[\"p1\"] + men[\"p3\"])\n",
        "\n",
        "embaralha(p1 = \"Usar\", p2 = \"Chave\", p3 = \"Vermelha\")\n"
      ],
      "execution_count": null,
      "outputs": [
        {
          "output_type": "stream",
          "text": [
            "ChaveUsarVermelha\n"
          ],
          "name": "stdout"
        }
      ]
    },
    {
      "cell_type": "markdown",
      "metadata": {
        "id": "ULNFel0zIKb4"
      },
      "source": [
        "# 9. Calcular a soma dos elementos de uma lista com números\n",
        "\n",
        "Seja uma lista **lista1** tal que ela contém $n$ valores como segue:\n",
        "\n",
        "**$lista1 = [x_1, x_2, x_3, \\cdots, x_n]$**\n",
        "\n",
        "Deseja-se criar uma função para calcular a soma $s$ de $n$ de elementos dessa lista tal como dado pela seguinte equação:\n",
        "\n",
        "$ s = \\displaystyle \\sum_{i = 1}^{n} x_i = x_1 + x_2 + \\cdots + x_n$\n",
        "\n"
      ]
    },
    {
      "cell_type": "code",
      "metadata": {
        "id": "SYB_NQdJI0fi",
        "colab": {
          "base_uri": "https://localhost:8080/",
          "height": 51
        },
        "outputId": "8287d11f-054c-4e68-fa79-f1dab3737c1c"
      },
      "source": [
        "def soma_lista(lista1):\n",
        "  soma = 0\n",
        "  for xi in lista1:\n",
        "    soma = soma + xi\n",
        "  return soma\n",
        "\n",
        "\n",
        "lista1 = [2, -6, 7, 8]\n",
        "print(lista1)\n",
        "print(\"Soma dos elementos de lista1 = {0:.2f}\".format(soma_lista(lista1)))"
      ],
      "execution_count": null,
      "outputs": [
        {
          "output_type": "stream",
          "text": [
            "[2, -6, 7, 8]\n",
            "Soma dos elementos de lista1 = 11.00\n"
          ],
          "name": "stdout"
        }
      ]
    },
    {
      "cell_type": "markdown",
      "metadata": {
        "id": "PYT2hMP52mTz"
      },
      "source": [
        "# 10. Cálculo da média de valores em uma lista\n",
        "\n",
        "Seja uma lista **lista1** tal que ela contém $n$ valores como segue:\n",
        "\n",
        "**$lista1 = [x_1, x_2, x_3, \\cdots, x_n]$**\n",
        "\n",
        "Deseja-se criar uma função para calcular a média $\\mu$ dos $n$ valores contidos na **lista1** tal como dado pela seguinte equação:\n",
        "\n",
        "$ \\mu = \\frac{1}{n} \\displaystyle \\sum_{i = 1}^{n} x_i$"
      ]
    },
    {
      "cell_type": "code",
      "metadata": {
        "id": "bKt2RRiSgzpK",
        "colab": {
          "base_uri": "https://localhost:8080/",
          "height": 51
        },
        "outputId": "28bd63c0-6eb2-4274-dda9-5dd37e6bf8d3"
      },
      "source": [
        "def media(lista1):\n",
        "  soma = 0\n",
        "  for xi in lista1:\n",
        "    soma = soma + xi\n",
        "  med = soma/len(lista1)  \n",
        "  return med\n",
        "\n",
        "lista1 = [7, 8, 9]\n",
        "m = media(lista1)\n",
        "print(lista1)\n",
        "print(\"Media dos valores da lista: \" + str(m))"
      ],
      "execution_count": null,
      "outputs": [
        {
          "output_type": "stream",
          "text": [
            "[7, 8, 9]\n",
            "Media dos valores da lista: 8.0\n"
          ],
          "name": "stdout"
        }
      ]
    },
    {
      "cell_type": "markdown",
      "metadata": {
        "id": "4wc1t0hhb1KZ"
      },
      "source": [
        "# 11. Cálculo do fatorial de um número\n",
        "\n",
        "O fatorial de um número inteiro **$n$** é representado pelo símbolo **n!** e pode ser calculado pela seguinte equação:\n",
        "\n",
        "$n! = \\displaystyle \\prod_{i=1}^{n} i = 1 \\times 2 \\times \\cdots \\times n$\n",
        "\n",
        "Além disso, por definição, $0! = 0$ e uma definição recursiva útil do fatorial é: $n! = n\\times(n-1)!$\n",
        "\n",
        "O programa a seguir fornece uma função que calcula o fatorial de um número inteiro $n$ não-negativo.\n",
        "\n"
      ]
    },
    {
      "cell_type": "code",
      "metadata": {
        "id": "r6VcfT8RjEbQ",
        "colab": {
          "base_uri": "https://localhost:8080/",
          "height": 51
        },
        "outputId": "52816632-2d5d-4b64-d92c-bfc7ce1ae9e5"
      },
      "source": [
        "def fatorial(n):\n",
        "  prod = 1\n",
        "  for i in range(1,n,1):\n",
        "    prod = prod*i\n",
        "  return prod\n",
        "\n",
        "a = 0\n",
        "b = fatorial(a)\n",
        "print(\"Fatorial de {0:d} é {1:d} \".format(a,b))\n",
        "\n",
        "a = 10\n",
        "b = fatorial(a)\n",
        "print(\"Fatorial de {0:d} é {1:d} \".format(a,b))"
      ],
      "execution_count": null,
      "outputs": [
        {
          "output_type": "stream",
          "text": [
            "Fatorial de 0 é 1 \n",
            "Fatorial de 10 é 362880 \n"
          ],
          "name": "stdout"
        }
      ]
    },
    {
      "cell_type": "markdown",
      "metadata": {
        "id": "DEown6P8KLxx"
      },
      "source": [
        "# 12. Múltiplos retornos\n",
        "\n",
        "Uma função pode retornar múltiplos parâmetros de saída. Por exemplo, para retornar 2 valores basta utilizar a sintaxe:\n",
        "\n",
        "> **return val1, val2**\n",
        "\n",
        "Suponha que deseja-se criar uma função que retorna a **soma** e o **produto** de duas variáveis **a** e **b**. \n",
        "\n",
        "De posse dos resultados **soma** e **produto** para o par **$(a,b)$**, a ideia é criar uma terceira função **verif_par** que verifica se existe algum par de números inteiros **$(a,b)$** para o qual **a + b = a*b**. Isso deverá ser feito todos os valores inteiros de 1 até 9.\n",
        "\n",
        "Para tanto, a seguintes funções deverão ser criadas:\n",
        "\n",
        "* **soma_prod** que retorna a **soma** e o **produto** do par **$(a,b)$**;\n",
        "* **verif_par** função que testa combinação de valores de 1 até 9 para **a** e para **b** e imprime aqueles para os quais a propriedade **a + b = a*b** é válida. Esta função deverá ter como parâmetro de entrada um valor **n** que indica até qual dígito será realizado o teste. Para este caso, usa-se **n = 9**.\n",
        "\n",
        "**Importante**: O comando **i in range(1,n+1)** fará a variável **i** percorrer valores de **1** até **n**.\n"
      ]
    },
    {
      "cell_type": "code",
      "metadata": {
        "id": "ayA0bBkSLP8V",
        "colab": {
          "base_uri": "https://localhost:8080/",
          "height": 51
        },
        "outputId": "04d58d06-869a-4eee-c5c5-c1d3bd63241c"
      },
      "source": [
        "def soma_prod(a, b):\n",
        "  c = a + b\n",
        "  d = a * b\n",
        "  return c, d\n",
        "\n",
        "def verif_par(n):\n",
        "  for i in range(1,n+1):\n",
        "    for j in range(1,n+1):\n",
        "      c,d = soma_prod(i,j)\n",
        "      if (c == d):\n",
        "        print(\"Passou: ({0:d}, {1:d}) \".format(i,j))\n",
        "        print(\"Pois: (a+b,a*b)= ({0:d}, {1:d}) \".format(c,d))\n",
        "      #else:\n",
        "      #  print(\"Falhou: ({0:d}, {1:d}) \".format(i,j))\n",
        "\n",
        "n = 9\n",
        "verif_par(n)"
      ],
      "execution_count": null,
      "outputs": [
        {
          "output_type": "stream",
          "text": [
            "Passou: (2, 2) \n",
            "Pois: (a+b,a*b)= (4, 4) \n"
          ],
          "name": "stdout"
        }
      ]
    },
    {
      "cell_type": "markdown",
      "metadata": {
        "id": "6fD9-AqrWgW8"
      },
      "source": [
        "# 13. Passando nomes de funções como parâmetros\n",
        "\n",
        "É possível passar nomes de funções como parâmetros no Python e depois utilizar esses nomes para realizar avaliações das funções.\n",
        "\n",
        "A sintaxe geral para isso é dada por:\n",
        "\n",
        ">**f** = **soma**\n",
        ">\n",
        "> r = **f**(a,b) # Aqui é feita uma chamada à função **soma** com parâmetros **a** e **b**.\n",
        "    \n",
        "Na função descrita a seguir existem duas operações que podem ser executadas: **soma** e **produto** de dois números **a** e **b**. O número de parâmetros para ambas é igual e dados por **(a,b)**. Além disso, deseja-se construir uma função na qual o usuário decide em tempo de execução qual função deseja executar. Para obter o nome de uma função o comando **f.__name__** deverá ser utilizado.\n",
        "\n",
        "O programa a seguir fornece como isso pode ser feito.\n",
        "\n"
      ]
    },
    {
      "cell_type": "code",
      "metadata": {
        "id": "CGzfaZ7Pcxep",
        "colab": {
          "base_uri": "https://localhost:8080/",
          "height": 51
        },
        "outputId": "fb862bff-111e-4fc0-9205-96cbef4dc5d2"
      },
      "source": [
        "def soma(a,b):\n",
        "  return a+b\n",
        "\n",
        "def prod(a,b):\n",
        "  return a*b\n",
        "\n",
        "\n",
        "opt = input('1-soma/2-produto')\n",
        "opt = int(opt) # Convertendo a string '1' ou '2' em número int 1 ou 2.\n",
        "a = 3\n",
        "b = 4\n",
        "if (opt == 1):\n",
        "  f = soma\n",
        "else: \n",
        "  f = prod\n",
        "\n",
        "r = f(a,b)\n",
        "name = f.__name__\n",
        "print('{0}({1},{2})={3}'.format(name,a,b,r))"
      ],
      "execution_count": null,
      "outputs": [
        {
          "output_type": "stream",
          "text": [
            "1-soma/2-produto1\n",
            "soma(3,4)=7\n"
          ],
          "name": "stdout"
        }
      ]
    },
    {
      "cell_type": "markdown",
      "metadata": {
        "id": "J-KpmqByJn5o"
      },
      "source": [
        "# 14. Encontrar o maior valor de uma lista\n",
        "\n",
        "Seja uma lista **lista1** tal que ela contém $n$ valores como segue:\n",
        "\n",
        "**$lista1 = [x_1, x_2, x_3, \\cdots, x_n]$**\n",
        "\n",
        "Deseja-se criar uma função para obter o maior elemento $x_{max}$ contido na **lista1** tal como dado pela seguinte equação:\n",
        "\n",
        "$ x_{max} = \\displaystyle \\max_{i = 1}^{n} \\left\\{ x_i \\right\\}$\n",
        "\n",
        "**Importante**: O maior elemento de **lista1** pertence à **lista1**."
      ]
    },
    {
      "cell_type": "code",
      "metadata": {
        "id": "r-Q1d0Q_Kc4x",
        "colab": {
          "base_uri": "https://localhost:8080/",
          "height": 51
        },
        "outputId": "7221bfc4-9dd4-4cd7-9f5f-c1e384cf3e94"
      },
      "source": [
        "def max_lista(lista1):\n",
        "  # Atribuição provisória e inicial de que o elemento x[0]\n",
        "  # é o maior até que outro elemento da lista seja maior.\n",
        "  maior = lista1[0]\n",
        "  # Analisando todos os elementos e verificando se algum\n",
        "  # é maior lista1[0]. Se for, então, modificar o valor\n",
        "  # da variável maior.\n",
        "  for xi in lista1:\n",
        "    if (xi > maior):\n",
        "      maior = xi\n",
        "  return maior\n",
        "\n",
        "\n",
        "lista1 = [3, -4, -1, 0, 10, 5, 9, 20]\n",
        "\n",
        "print(lista1)\n",
        "print(\"Maior elemento da lista1 é: {0}\".format(max_lista(lista1)))\n"
      ],
      "execution_count": null,
      "outputs": [
        {
          "output_type": "stream",
          "text": [
            "[3, -4, -1, 0, 10, 5, 9, 20]\n",
            "Maior elemento da lista1 é: 20\n"
          ],
          "name": "stdout"
        }
      ]
    },
    {
      "cell_type": "markdown",
      "metadata": {
        "id": "dWhJ8Fw1L52A"
      },
      "source": [
        "# 15. Contar número de ocorrências de um elemento em uma lista\n",
        "\n",
        "Seja uma lista **lista1** tal que ela contém $n$ elementos como segue:\n",
        "\n",
        "**$lista1 = [x_1, x_2, x_3, \\cdots, x_n]$**\n",
        "\n",
        "Dado um elemento $elem$, deseja-se criar uma função para obter o número de\n",
        "ocorrências desse elemento na **lista1**. Para tanto, será necessário:\n",
        "\n",
        ">0. Iniciar um variável acumuladora $soma$ com o valor zero. Essa variável é responsável por contabilizar no. de ocorrências de $elem$ em $lista1$\n",
        ">\n",
        ">1. Percorrer todos os elementos de $lista1$:\n",
        ">>   \n",
        ">> 1.1 Comparar cada elemento da lista $x_i$ com $elem$.\n",
        ">>\n",
        ">> 1.2 Se $elem$ é igual a $x_i$, então, atualizar $soma += 1$\n",
        ">>\n",
        ">2. Retornar o valor de $soma$"
      ]
    },
    {
      "cell_type": "code",
      "metadata": {
        "id": "Zva8vv1HMeeA",
        "colab": {
          "base_uri": "https://localhost:8080/",
          "height": 51
        },
        "outputId": "d71403ae-6f63-4277-ca68-72939231f6a6"
      },
      "source": [
        "def ocorrencia_lista(lista1,elem):\n",
        "  soma = 0\n",
        "  for xi in lista1:\n",
        "    if (elem == xi):\n",
        "      soma += 1\n",
        "  return soma\n",
        "\n",
        "l1 = ['g', 't', 'a', 'a', 'c', 't', 'g', 'c']\n",
        "e   = 'a'\n",
        "print(l1)\n",
        "soma = ocorrencia_lista(l1,e)\n",
        "print('Numero de ocorrencias de \\'{0:s}\\' é: {1:d}'.format(e,soma))"
      ],
      "execution_count": null,
      "outputs": [
        {
          "output_type": "stream",
          "text": [
            "['g', 't', 'a', 'a', 'c', 't', 'g', 'c']\n",
            "Numero de ocorrencias de 'a' é: 2\n"
          ],
          "name": "stdout"
        }
      ]
    },
    {
      "cell_type": "markdown",
      "metadata": {
        "id": "lIN1r413Rw_p"
      },
      "source": [
        "# 16. Verificar se duas sequências são iguais\n",
        "\n",
        "Sejam duas sequências **seq1** e **seq2** tal que ambas contêm $n$ elementos como segue:\n",
        "\n",
        "**$seq1 = [x_1, x_2, x_3, \\cdots, x_n]$**\n",
        "\n",
        "**$seq2 = [y_1, y_2, y_3, \\cdots, y_n]$**\n",
        "\n",
        "Deseja-se criar uma função para verificar se ambas as sequências são iguais ou não.\n",
        "\n",
        "A lógica para verificar se duas sequências são iguais é utilizar dois elementos  **$x_i$** e **$y_i$** que utilizam o mesmo índice **$i$** e correm sincronizados e em paralelo para ambas as sequências como pode ser visualizado com o seguinte diagrama:\n",
        "\n",
        ">  $x_1$  |  $x_2$  |  $x_3$  |  $x_4$  |  $x_5$ \n",
        ">---  | --- | --- | --- | --- \n",
        "> [0] | [1] | [2] | [3] | [4] \n",
        "> [i] |     |     |     | \n",
        "\n",
        ">  $y_1$  |  $y_2$  |  $y_3$  |  $y_4$  |  $y_5$ \n",
        ">---  | --- | --- | --- | --- \n",
        "> [0] | [1] | [2] | [3] | [4] \n",
        "> [i] |     |     |     | \n",
        "\n",
        "Esse trabalho pode ser facilmente executado com auxílio do seguinte comando **$x_i,y_i$ in zip(seq1,seq2)**. \n",
        "\n",
        "Se for verificado alguma diferença para algum elemento, então, uma variável auxiliar **status**, que indica se as sequências são iguais ou não e recebe valor inicial **True**, irá receber o valor **False** e o laço será quebrado com o comando **break**."
      ]
    },
    {
      "cell_type": "code",
      "metadata": {
        "id": "d2UJUUOPSUA3",
        "colab": {
          "base_uri": "https://localhost:8080/",
          "height": 119
        },
        "outputId": "5603b12b-7a46-4e88-9fbf-b74dfb99b9f1"
      },
      "source": [
        "def verif_seq(s1,s2):\n",
        "  status = True\n",
        "  for xi,yi in zip(s1,s2):\n",
        "    if (xi != yi):\n",
        "      status = False\n",
        "      break\n",
        "  return status\n",
        "\n",
        "s1 = ['a', 'g', 't', 'c']\n",
        "s2 = ['a', 'g', 't', 'c']\n",
        "s3 = ['a', 'g', 't', 'a']\n",
        "\n",
        "print(s1)\n",
        "print(s2)\n",
        "status = verif_seq(s1,s2)\n",
        "print('A sequência s1 é igual a sequência s2: {0:b}'.format(status))\n",
        "print(s1)\n",
        "print(s3)\n",
        "status = verif_seq(s1,s3)\n",
        "print('A sequência s1 é igual a sequência s3: {0:b}'.format(status))"
      ],
      "execution_count": null,
      "outputs": [
        {
          "output_type": "stream",
          "text": [
            "['a', 'g', 't', 'c']\n",
            "['a', 'g', 't', 'c']\n",
            "A sequência s1 é igual a sequência s2: 1\n",
            "['a', 'g', 't', 'c']\n",
            "['a', 'g', 't', 'a']\n",
            "A sequência s1 é igual a sequência s3: 0\n"
          ],
          "name": "stdout"
        }
      ]
    },
    {
      "cell_type": "markdown",
      "metadata": {
        "id": "rkwPF4CsMDFm"
      },
      "source": [
        "# 17. Verificar o número de ocorrências de uma subsequência em uma sequência\n",
        "\n",
        "Seja uma sequência **s1** tal que ela contém $n$ elementos como segue:\n",
        "\n",
        "**$s1 = [x_1, x_2, x_3, \\cdots, x_n]$**\n",
        "\n",
        "Seja uma subsequência **s2** com $m$ elementos como segue: \n",
        "\n",
        "**$s2 = [y_1, y_2, y_3, \\cdots, y_m]$**\n",
        "\n",
        "Deseja-se criar uma função para obter o número de ocorrências da subsequência **s2** em **s1**. Para tanto, será necessário:\n",
        "\n",
        ">0. Iniciar um variável acumuladora $soma$ com o valor zero. Essa variável é responsável por contabilizar no. de ocorrências de **s2** em **s1**\n",
        ">\n",
        ">1. Percorrer todos os elementos de **s1**:\n",
        ">>   \n",
        ">> 1.1 A partir do elemento $x_i$ de **s1** gerar uma subsequência **sub1** e comparar cada elemento com cada elemento de **s2**\n",
        ">>\n",
        ">> 1.2 Se **sub1** é igual a **s2**, então, atualizar $soma += 1$\n",
        ">>\n",
        ">2. Retornar o valor de $soma$\n",
        "\n",
        "**Importante 1**: Será necessário empregar a função que verifica se duas sequências **sub1** e **s2** são iguais ou não que foi fornecida no exercício anterior.\n",
        "\n",
        "**Importante 2**: Para comparar trechos de **s1** com a subquência **s2** é necessário particionar **s1** para gerar **sub1** usando a seguinte indexação **i:i+tam** e o índice **i** varia de **0** até **len(s1)-len(s2)+1** o que pode ser feito com **range(0,len(s1)-len(s2)+1)**. \n",
        "\n",
        "O esquema abaixo ilustra o motivo para usar o índice final de **range** como **len(s1)-len(s2)+1**.\n",
        "\n",
        ">  $s1_1$  |  $x_2$  |  $x_3$  |  $x_4$  |  $x_5$ \n",
        ">---  | --- | --- | ---   | --- \n",
        "> [0] | [1] | [2] | [3]   | [4] \n",
        ">     |     |     | [i]   | \n",
        ">     |     |     | $y_1$ | $y_2$\n",
        "\n",
        "Observe que o máximo valor de **i** é **3**. Veja que **len(s1) = 5**, **len(s2) = 2**. Porém, como o comando **range(1,n)** vai até o valor **$n-1$**, se fosse usado **len(s1)-len(s2) = 3** o laço não iria até o índice **3** e sim até **2**. Portanto, faz-se necessário usar o valor **len(s1)-len(s2)+1 = 4** como índice final **n** para o comando **range(1,n)**.\n",
        "\n"
      ]
    },
    {
      "cell_type": "code",
      "metadata": {
        "id": "xThkS_Z8Me-D",
        "colab": {
          "base_uri": "https://localhost:8080/",
          "height": 425
        },
        "outputId": "63d5b539-0f6b-4826-a54e-5f71cbf3880d"
      },
      "source": [
        "def verif_seq(s1,s2):\n",
        "  status = True\n",
        "  for xi,yi in zip(s1,s2):\n",
        "    if (xi != yi):\n",
        "      status = False\n",
        "      break\n",
        "  return status\n",
        "\n",
        "def subseq_lista(lista1,sub1):\n",
        "  soma = 0\n",
        "  n   = len(lista1)\n",
        "  tam = len(sub1)\n",
        "  for i in range(0,n-tam+1):\n",
        "    sub2 = lista1[i:i+tam]\n",
        "    print(sub1)\n",
        "    print(sub2)\n",
        "    print('----------')\n",
        "    if verif_seq(sub1,sub2):   # Chamada à função que verifica se s1 e s2 são iguais\n",
        "      soma += 1\n",
        "  return soma\n",
        "\n",
        "l1 = ['g', 't', 'a', 'a', 'c', 't', 'g', 'c']\n",
        "e   = ['g', 't']\n",
        "print(l1)\n",
        "print('----------')\n",
        "soma = subseq_lista(l1,e)\n",
        "print(soma)\n",
        "#print('Numero de ocorrencias de \\'{0:s}\\' é: {1:d}'.format(e,soma))"
      ],
      "execution_count": null,
      "outputs": [
        {
          "output_type": "stream",
          "text": [
            "['g', 't', 'a', 'a', 'c', 't', 'g', 'c']\n",
            "----------\n",
            "['g', 't']\n",
            "['g', 't']\n",
            "----------\n",
            "['g', 't']\n",
            "['t', 'a']\n",
            "----------\n",
            "['g', 't']\n",
            "['a', 'a']\n",
            "----------\n",
            "['g', 't']\n",
            "['a', 'c']\n",
            "----------\n",
            "['g', 't']\n",
            "['c', 't']\n",
            "----------\n",
            "['g', 't']\n",
            "['t', 'g']\n",
            "----------\n",
            "['g', 't']\n",
            "['g', 'c']\n",
            "----------\n",
            "1\n"
          ],
          "name": "stdout"
        }
      ]
    },
    {
      "cell_type": "markdown",
      "metadata": {
        "id": "w3QGwPlHhe-M"
      },
      "source": [
        "# 18. Funções recursivas\n",
        "\n",
        "Funções recursivas são funções que chamam a si mesmas para realizar um cálculo ou operação. Para criar uma função recursiva é útil obter a relação de recorrência para o problema a ser resolvido.\n",
        "\n",
        "Alguns exemplos de problemas e respectivas relações recursivas são fornecidos a seguir:\n",
        "\n",
        "---\n",
        "\n",
        "**Problema 1**: Cálculo do fatorial\n",
        "\n",
        "O cálculo do fatorial de um número inteiro **n** pode ser feito utilizado o seguinte equacionamento recursivo:\n",
        "\n",
        "$n! = n \\times (n-1)!$\n",
        "\n",
        "$0! = 1$\n",
        "\n",
        "---\n",
        "\n",
        "**Problema 2**: Cálculo da soma de **$n$** valores inteiros\n",
        "\n",
        "O cálculo da soma **$s_n$** dos **$n$** valores inteiros pode ser obtido através do seguinte equacionamento recursivo:\n",
        "\n",
        "$ s_n = \\displaystyle \\sum_{i = 1}^{n} i = n + \\sum_{i = 1}^{n-1} i = n + s_{n-1}$\n",
        "\n",
        "$ s_1 = 1$\n",
        "\n",
        "---\n",
        "\n",
        "**Problema 3**: Cálculo do i-ésimo termo da sequência de Fibonacci\n",
        "\n",
        "O cálculo do i-ésimo termo da sequência de **Fibonacci** pode ser realizado através da seguinte relação recursiva:\n",
        "\n",
        "$F(i) = F(i-1) + F(i-2)$\n",
        "\n",
        "$F(1) = F(0) = 1$\n",
        "\n",
        "---\n",
        "\n",
        "**Problema 4**: Cálculo do i-ésimo termo da sequência Padovana\n",
        "\n",
        "O cálculo do i-ésimo termo da sequência de **Padovana** pode ser realizado através da seguinte relação recursiva:\n",
        "\n",
        "$P(n+1) = P(n-1) + P(n-2) \\rightarrow P(n) = P(n-2) + P(n-3)$\n",
        "\n",
        "$P(2) = P(1) = P(0) = 1$\n",
        "\n",
        "---\n",
        "\n",
        "Construir funções recursivas para resolver cada um dos problemas enunciados."
      ]
    },
    {
      "cell_type": "code",
      "metadata": {
        "id": "KEEInRyAhh4N",
        "colab": {
          "base_uri": "https://localhost:8080/",
          "height": 102
        },
        "outputId": "f61f6b93-81c7-4674-f8e8-d46f777663f9"
      },
      "source": [
        "def fatorial(n):\n",
        "  if (n > 0):\n",
        "    return n*fatorial(n-1)\n",
        "  else:\n",
        "    return 1\n",
        "\n",
        "def soma(n):\n",
        "  if (n > 1):\n",
        "    return n+soma(n-1)\n",
        "  else:\n",
        "    return 1\n",
        "\n",
        "def fibo(n):\n",
        "  if (n > 1):\n",
        "    return fibo(n-1) + fibo(n-2)\n",
        "  else:\n",
        "    return 1\n",
        "\n",
        "def pado(n):\n",
        "  if (n > 2):\n",
        "    return pado(n-2) + pado(n-3)\n",
        "  else:\n",
        "    return 1\n",
        "\n",
        "n = 5\n",
        "print('n = {0}'.format(n))\n",
        "print('{0}! = {1}'.format(n,fatorial(n)))\n",
        "print('S({0}) = {1}'.format(n,soma(n)))\n",
        "print('F({0}) = {1}'.format(n,fibo(n)))\n",
        "print('P({0}) = {1}'.format(n,pado(n)))"
      ],
      "execution_count": null,
      "outputs": [
        {
          "output_type": "stream",
          "text": [
            "n = 5\n",
            "5! = 120\n",
            "S(5) = 15\n",
            "F(5) = 8\n",
            "P(5) = 3\n"
          ],
          "name": "stdout"
        }
      ]
    },
    {
      "cell_type": "markdown",
      "metadata": {
        "id": "hjbMvI04enie"
      },
      "source": [
        "# Desafio 1: Verificando se uma função é um palíndromo\n",
        "\n",
        "Um palíndromo é uma palavra que se for invertida a sequência de letras permanece a mesma.\n",
        "\n",
        "Veja os seguintes exemplos de palíndromos:\n",
        "\n",
        "* arara\n",
        "* asa\n",
        "* salas\n",
        "* Socorram-me, subi no ônibus em Marrocos\n",
        "\n",
        "A lógica para verificar se um **palavra** é um palíndromo usa a indexação dos elementos de um tipo **str**. Por exemplo, seja a variável **s = 'arara'**, então, o conteúdo de **s** pode ser visualizado com o seguinte diagrama:\n",
        "\n",
        ">  a  |  r  |  a  |  r  |  a \n",
        ">---  | --- | --- | --- | --- \n",
        "> [0] | [1] | [2] | [3] | [4] \n",
        "> [i] |     |     |     | [j]\n",
        "\n",
        "Sejam os índices **i** e **j** com valores iniciais dados por **i = 0** e **j = 4**. A partir deles é possível acessar os elementos **a[0]** e **a[4]**, e verificar se **a[i] != a[j]**. Se fosse, então, o processo poderia ser interropido e **s** não seria palídromo. Como isso não ocorre o índice **i** é incrementado em uma unidade e o **j** reduzido em uma unidade, gerando o seguinte esquema:\n",
        "\n",
        ">  a  |  r  |  a  |  r  |  a \n",
        ">---  | --- | --- | --- | --- \n",
        "> [0] | [1] | [2] | [3] | [4] \n",
        ">     | [i] |     | [j] | \n",
        "\n",
        "De novo é verificado que os elementos a[i] e a[j] são iguais e a verificação continua com incremento de **i** e **j** que irá resultar em:\n",
        "\n",
        ">  a  |  r  |  a  |  r  |  a \n",
        ">---  | --- | --- | --- | --- \n",
        "> [0] | [1] | [2] | [3] | [4] \n",
        ">     |     | [i] |     | \n",
        ">     |     | [j] |     | \n",
        "\n",
        "Veja que novamente **a[i]** e **a[j]** são iguais, mas agora pode-se interromper a verificação, pois do contrário iríamos verificar elementos que já foram comparados. O ponto de parada é exatamente o elemento de índice 2. Isto é, devemos interromper a verificação até que **i** seja **int(len(s)/2) = int(5/2) = int(2,5) = 2**. Porém, observe que este último passo era desnecessário, pois o elemento do meio sempre irá gerar **a[i] == a[j]**. Então, pode-se parar com **int(len(s)/2)-1**.\n",
        "\n",
        "Para o caso em que o número de caracteres contidos em **s** é par, ocorreria o término de comparações na seguinte situação:\n",
        "\n",
        ">  a  |  s  |  s  |  a  \n",
        ">---  | --- | --- | --- \n",
        "> [0] | [1] | [2] | [3] \n",
        ">     | [i] | [j] |     \n",
        ">     |     |     |     \n",
        "\n",
        "Como **len(s) = 4** e **int(len(s)/2) = int(4/2) = int(2) = 2** e **i** pode ir até **int(len(s)/2) - 1**.\n",
        "\n",
        "Desse modo, pode-se concluir que a condição de parada que serve para os 2 casos, seja o número de letras da **string** **s** ímpar ou par, é: **int(len(s/2))-1**. Porém, como o comando **range(1,int(len(s/2)))** será utilizado no laço, então, automaticamente a comparação irá parar em **int(len(s/2))-1**. \n",
        "\n",
        "Estabelecida a condição de parada para a determinação se **s** é um palíndromo ou não, pode-se traçar o seguinte roteiro para a resolução do problema: \n",
        "\n",
        "1. Deixar todas as letras como maiúsculas para evitar problemas de comparação com falso negativo como **'R'** com 'r'**. Para tanto, o comando upper pode ser utilizado;\n",
        "2. Obter o tamanho $n$ da palavra **s**;\n",
        "3. Obter o valor inicial dos índices **i (=0)** e **j (n-(i+1))**;\n",
        "4. Comparar e verificar se são iguais os elementos **a[i]** e **a[j]**. Se não forem interroper o laço e determinar que **s** não é palíndromo, senão, incrementar **i** e reduzir **j** até que **i** tenha valor **int(len(s/2))-1**."
      ]
    },
    {
      "cell_type": "code",
      "metadata": {
        "id": "U12ekg_tmbQQ",
        "colab": {
          "base_uri": "https://localhost:8080/",
          "height": 102
        },
        "outputId": "9d59829e-0273-4b28-ec96-59691ae883c4"
      },
      "source": [
        "def verif_palindromo(pa):\n",
        "  pa = pa.upper()\n",
        "  n = len(pa)\n",
        "  num = int(n/2)\n",
        "  verif = True\n",
        "  for i in range(0,num):\n",
        "    print(\"pa[{0:d}] = {1:s}\".format(i,pa[i]))\n",
        "    print(\"pa[{0:d}] = {1:s}\".format(n-(i+1),pa[n-(i+1)]))\n",
        "    if (pa[i] != pa[n-(i+1)]):\n",
        "      verif = False\n",
        "      break  \n",
        "  return verif\n",
        "\n",
        "p = \"arara\"\n",
        "if (verif_palindromo(p)):\n",
        "  print(\"A palavra {0:s} é palídromo\".format(p))"
      ],
      "execution_count": null,
      "outputs": [
        {
          "output_type": "stream",
          "text": [
            "pa[0] = A\n",
            "pa[4] = A\n",
            "pa[1] = R\n",
            "pa[3] = R\n",
            "A palavra arara é palídromo\n"
          ],
          "name": "stdout"
        }
      ]
    },
    {
      "cell_type": "markdown",
      "metadata": {
        "id": "ERcYbr90cL8S"
      },
      "source": [
        "# Desafio 2: Chamadas de funções com palavras-chave e passando listas como argumento de uma função no cálculo de média aritmética e geométrica\n",
        "\n",
        "A função **mediaAG** do programa dado a seguir, irá receber uma lista de valores e será calculado e retornado a **média aritmética** ou a **média geométrica** dos valores fornecidos. Como uma das duas médias deverá ser escolhida, será necessário um parâmetro adicional **tip**  (com valores **0** para **média aritmética** e **1** para **média geométrica**) indicando qual equacionamento deverá ser utilizado. \n",
        "\n",
        "É importante frisar que o cálculo da **média** **aritmética** $ma$ ou **geométrica** $g$ são dados, respectivamente, pelas seguintes equações:\n",
        "\n",
        "* **Média aritmética**:\n",
        "$ma = \\frac{1}{n} \\displaystyle \\sum_{i=1}^{n} x_i$\n",
        "\n",
        "onde:\n",
        "$x_i$ é o i-ésimo valor dos **n** valores fornecidos para cálculo da **média aritmética**, e $\\displaystyle \\sum_{i=1}^{n} x_i = x_1 + x_2 + \\cdots + x_n$\n",
        "\n",
        "* **Média geométrica**:\n",
        "$g = \\sqrt[n]{\\displaystyle \\prod_{i=1}^{n} x_i} $\n",
        "\n",
        "onde:\n",
        "$x_i$ é o i-ésimo valor dos **n** valores fornecidos para cálculo da **média geométrica** e $\\displaystyle \\prod_{i=1}^{n} x_i = x_1 \\times x_2 \\times \\cdots \\times x_n$ .\n",
        "\n",
        "Para a resolução deste problema serão criadas 3 funções:\n",
        "\n",
        "1. **ma** que calcula a **média aritmética**. Seu parâmetro de entrada será uma lista de valores e o parâmetro de saída a média;\n",
        "2. **mg** que calcula a **média geométrica**. Seu parâmetro de entrada será uma lista de valores e o parâmetro de saída a média;\n",
        "3. **mediaAG** que calcula a **média aritmética** ou **geométrica** chamando as funções anteriores de acordo com o valor contido no parâmetro **tip**. Os parâmetros de entrada serão: uma lista de valores e o parâmetro **tip**.\n",
        "\n",
        "Agora, vamos ao código.\n"
      ]
    },
    {
      "cell_type": "code",
      "metadata": {
        "id": "xy7baPpzlmJb",
        "colab": {
          "base_uri": "https://localhost:8080/",
          "height": 68
        },
        "outputId": "81e4c79e-5c05-45ad-9060-d1e9ec6a9c43"
      },
      "source": [
        "# Cálculo da média aritmética.\n",
        "def ma(lista1):\n",
        "  soma = 0\n",
        "  n = len(lista1)\n",
        "  for i in lista1:\n",
        "    soma = soma + i\n",
        "  total = soma/n\n",
        "  return total\n",
        "\n",
        "# Cálculo da média geométrica.\n",
        "def mg(lista1):\n",
        "  prod = 1;\n",
        "  n = len(lista1)\n",
        "  for i in lista1:\n",
        "    prod = prod*i\n",
        "  # Raiz enésima = ^(1/n)  \n",
        "  total = (prod)**(1/n)\n",
        "  return total\n",
        "\n",
        "# Cálculo das médias: valor padrão -> média aritmética.\n",
        "def mediaAG(lista, tip = 0):\n",
        "  if (tip == 0):\n",
        "    r = ma(lista)\n",
        "  else:\n",
        "    r = mg(lista)\n",
        "  return r\n",
        "\n",
        "lista1 = [7, 8, 9]\n",
        "t = 0\n",
        "# Trocando a ordem dos parâmetros, mas usando os nomes do cabeçalho da função.\n",
        "m1 = mediaAG(tip = t, lista = lista1)\n",
        "t = 1\n",
        "m2 = mediaAG(tip = t, lista = lista1)\n",
        "\n",
        "print(lista1)\n",
        "print(\"Média aritmética {0:.2f} \".format(m1))\n",
        "print(\"Média geométrica {0:.2f} \".format(m2))"
      ],
      "execution_count": null,
      "outputs": [
        {
          "output_type": "stream",
          "text": [
            "[7, 8, 9]\n",
            "Média aritmética 8.00 \n",
            "Média geométrica 7.96 \n"
          ],
          "name": "stdout"
        }
      ]
    },
    {
      "cell_type": "markdown",
      "metadata": {
        "id": "AGja59znir0w"
      },
      "source": [
        "# Desafio 3: Cálculo de desvio-padrão populacional e amostral\n",
        "\n",
        "A função **desviop** do programa dado a seguir, irá receber uma lista de valores e será calculado e retornado o **desvio-padrão** dos valores. \n",
        "\n",
        "O desvio-padrão é uma **medida estatística** que serve para medir a dispersão dos valores coletados em relação à **media aritmética**. Em termos menos formais serve para indicar quanto os valores coletados estão \"perto\" ou \"longe\" da média. Se para um desvio-padrão zero há o indicativo de que todos os valores coletados são iguais, então, um desvio-padrão baixo indica que os dados oscilam pouco em torno da média.\n",
        "\n",
        "Como o **desvio-padrão** pode ser **populacional** ou **amostral**, será necessário um parâmetro adicional **tip** indicando qual equacionamento deverá ser realizado. \n",
        "\n",
        "É importante frisar que o cálculo do **desvio-padrão** **populacional** **$\\sigma$** ou **amostral** **$s$** podem ser feitos após a obtenção da **variâncias** (que é o quadrado do desvio-padrão) correspondentes e dadas, respectivamente, pelas seguintes equações:\n",
        "\n",
        "* **Variância populacional**:\n",
        "$\\sigma^2 = \\frac{1}{N} \\displaystyle \\sum_{i=1}^{N} \\left( x_i - \\mu \\right)^2$\n",
        "\n",
        "onde:\n",
        "$\\mu$ é a **média aritmética populacional**, $x_i$ é o valor de cada dado, e **$N$** é o **tamanho da população** (ou número de valores coletados), e o **desvio-padrão populacional** é dado por $\\sigma = \\sqrt{\\sigma^2}$.\n",
        "\n",
        "* A **média aritmética populacional** é dada por:\n",
        "\n",
        "$\\mu = \\frac{1}{N} \\displaystyle \\sum_{i=1}^{N} x_i$\n",
        "\n",
        "* **Variância amostral**:\n",
        "$s^2 = \\frac{1}{n-1} \\displaystyle \\sum_{i=1}^{n} \\left( x_i - \\overline{x} \\right)^2$\n",
        "\n",
        "onde:\n",
        "$\\overline{x}$ é a **média aritmética amostral**, $x_i$ é o valor de cada dado, e **$n$** é o **tamanho da amostra** (ou número de valores coletados extraídos de uma população), e o **desvio-padrão amostral** é dado por $s = \\sqrt{s^2}$.\n",
        "\n",
        "* A **média aritmética amostral** é dada por:\n",
        "\n",
        "$\\overline{x}= \\frac{1}{n} \\displaystyle \\sum_{i=1}^{n} x_i$\n",
        "\n",
        "Um roteiro acerca das funções a serem desenvolvidas para esse programa é dado por:\n",
        "\n",
        "* Uma função **ma** que calcula a média aritmética a partir dos valores de uma lista;\n",
        "* Uma função **calcSDQ** que usa a função **ma** e calcula a soma do quadrado da diferença entre a média aritmética e cada valor da lista;\n",
        "* Uma função **devPP** que divide o valor retornado por **calcSDQ** por **N** para obter a **variância populacional**. Depois extraí a raiz quadrada para obter o **desvio-padrão populacional**;\n",
        "* Uma função **devPA** que divide o valor retornado por **calcSDQ** por **n-1** para obter a **variância amostral**. Depois extraí a raiz quadrada para obter o **desvio-padrão amostral**;\n",
        "* Uma função **desviop** que de acordo com um parâmetro **tip** determina qual das duas funções irá chamar: **devPP** ou **devPP**. Além disso, seus paramêtros de entrada são passados em forma de lista chamada **\\*\\*par** de modo que para serem recuperados é necessário empregar a seguinte sintaxe:\n",
        "\n",
        "> **def** desviop(**par):\n",
        ">>  lista = par[**\"lista\"**]\n",
        ">>\n",
        ">>  tip   = par[**\"tip\"**]\n",
        "\n",
        "E a chamada para esta função deverá declarar explicitamente o nome dos parâmetros que será empregado para a posterior **'recuperação'** dos valores no escopo da função:\n",
        "\n",
        "> m1 = desviop(**tip** = t, **lista** = l1)\n"
      ]
    },
    {
      "cell_type": "code",
      "metadata": {
        "id": "Q9-D6DLHcLWR",
        "colab": {
          "base_uri": "https://localhost:8080/",
          "height": 70
        },
        "outputId": "9873a9e7-da08-4dcd-bf9a-ebaa8a490ecd"
      },
      "source": [
        "# Cálculo da média aritmética.\n",
        "def ma(lista1):\n",
        "  soma = 0\n",
        "  n = len(lista1)\n",
        "  for i in lista1:\n",
        "    soma = soma + i\n",
        "  total = soma/n\n",
        "  return total\n",
        "\n",
        "# Cálculo da soma das diferenças ao quadrado entre x_i e a média.\n",
        "def calcSDQ(lista1):\n",
        "  med = ma(lista1)  # Cálculo da média aritmética por meio da função ma\n",
        "  soma = 0\n",
        "  for i in lista1:\n",
        "    soma = soma + (i - med)**2\n",
        "  return soma\n",
        "\n",
        "# Cálculo do desvio-padrão populacional\n",
        "def devPP(lista1):\n",
        "  soma = calcSDQ(lista1) # Cálculo da soma das diferenças ao quadrado\n",
        "  n = len(lista1)\n",
        "  total = soma/n         # Divisão por N: variância populacional\n",
        "  dpp = total**(1/2)     # raiz quadrada: transforma variância em desvio-padrão\n",
        "  return dpp\n",
        "\n",
        "def devPA(lista1):\n",
        "  soma = calcSDQ(lista1) # Cálculo da soma das diferenças ao quadrado\n",
        "  n = len(lista1)\n",
        "  total = soma/(n-1)     # Divisão por n-1: variância amostral\n",
        "  dpa = total**(1/2)     # raiz quadrada: transforma variância em desvio-padrão\n",
        "  return dpa\n",
        "\n",
        "\n",
        "# Cálculo das médias: valor padrão -> média aritmética.\n",
        "def desviop(**par):\n",
        "  lista = par[\"lista\"]\n",
        "  tip   = par[\"tip\"]\n",
        "  if (tip == 0):\n",
        "    r = devPP(lista)\n",
        "  else:\n",
        "    r = devPA(lista)\n",
        "  return r\n",
        "\n",
        "l1 = [7, 8, 9]\n",
        "t = 0\n",
        "# Trocando a ordem dos parâmetros, mas usando os nomes do cabeçalho da função.\n",
        "m1 = desviop(tip = t, lista = l1)\n",
        "t = 1\n",
        "m2 = desviop(tip = t, lista = l1)\n",
        "\n",
        "print(l1)\n",
        "print(\"Desvio-padrão populacional {0:.2f} \".format(m1))\n",
        "print(\"Desvio-padrão amostral     {0:.2f} \".format(m2))"
      ],
      "execution_count": null,
      "outputs": [
        {
          "output_type": "stream",
          "text": [
            "[7, 8, 9]\n",
            "Desvio-padrão populacional 0.82 \n",
            "Desvio-padrão amostral     1.00 \n"
          ],
          "name": "stdout"
        }
      ]
    },
    {
      "cell_type": "markdown",
      "metadata": {
        "id": "-F6lFZRqMTm9"
      },
      "source": [
        "# Desafio 4: Desvendando os segredos do Google - PageRank\n",
        "\n",
        "De acordo com o Wikipédia:\n",
        "\n",
        "**\"PageRank é um algoritmo utilizado pela ferramenta de busca Google para posicionar websites entre os resultados de suas buscas. O PageRank mede a importância de uma página contabilizando a quantidade e qualidade de links apontando para ela. Não é o único algoritmo utilizado pelo Google para classificar páginas da internet, mas é o primeiro utilizado pela companhia e o mais conhecido.\"**\n",
        "\n",
        "Agora suponha o seguinte problema relacionado: seja uma lista contendo o índice associado ao **PageRank** de cada página da internet indexada pelo **Google**.\n",
        "\n",
        "Agora deseja-se criar um programa capaz de retornar duas listas relativas às páginas em ordem decrescente de índice de PageRank: \n",
        "\n",
        "1. Uma **lista** contendo os valores de **PageRank** das páginas;\n",
        "2. Uma **lista** contendo os **índices originais** de ordenação associado a cada página.\n",
        "\n",
        "O programa a seguir executa essa tarefa usando o algoritmo de ordenação denominado **Bubble Sort**:\n",
        "\n",
        "https://pt.wikipedia.org/wiki/Bubble_sort\n",
        "\n",
        "Uma ilustra do funcionamento do Bubble Sort é dada na figura a seguir:\n",
        "\n",
        "https://pt.wikipedia.org/wiki/Ficheiro:Bubble_sort_animation.gif"
      ]
    },
    {
      "cell_type": "code",
      "metadata": {
        "id": "JKsY9k0yhjAF",
        "colab": {
          "base_uri": "https://localhost:8080/",
          "height": 85
        },
        "outputId": "91d60223-dc4a-4e67-d57a-8c9395084212"
      },
      "source": [
        "def troca(b,c): \n",
        "  return(c,b)\n",
        "\n",
        "def bubble_sort(a,crit):\n",
        "  for i in list(range(1,len(a),1)):\n",
        "    for j in list(range(0,len(a)-i,1)):\n",
        "      if crit[j] < crit[j+1]:\n",
        "        a[j],a[j+1] = troca(a[j],a[j+1])\n",
        "        crit[j],crit[j+1] = troca(crit[j],crit[j+1])\n",
        "  return(a,crit) \n",
        "\n",
        "pagerank = [4.7, 5.4, 3.1, 10.2]\n",
        "index    = [0, 1, 2, 3]\n",
        "\n",
        "print('Antes index     = ' + str(index))\n",
        "print('Antes pagerank  = ' + str(pagerank))\n",
        "index,r = bubble_sort(index,pagerank)\n",
        "print('Depois index    = ' + str(index))\n",
        "print('Depois pagerank = ' + str(pagerank))"
      ],
      "execution_count": null,
      "outputs": [
        {
          "output_type": "stream",
          "text": [
            "Antes index     = [0, 1, 2, 3]\n",
            "Antes pagerank  = [4.7, 5.4, 3.1, 10.2]\n",
            "Depois index    = [3, 1, 0, 2]\n",
            "Depois pagerank = [10.2, 5.4, 4.7, 3.1]\n"
          ],
          "name": "stdout"
        }
      ]
    }
  ]
}